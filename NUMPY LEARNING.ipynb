{
 "cells": [
  {
   "cell_type": "code",
   "execution_count": 2,
   "id": "20699731",
   "metadata": {},
   "outputs": [],
   "source": [
    "import numpy as np"
   ]
  },
  {
   "cell_type": "code",
   "execution_count": 8,
   "id": "7613d1d8",
   "metadata": {},
   "outputs": [
    {
     "data": {
      "text/plain": [
       "array([1, 2, 3, 4, 5])"
      ]
     },
     "execution_count": 8,
     "metadata": {},
     "output_type": "execute_result"
    }
   ],
   "source": [
    "arr=numpy.array([1,2,3,4,5])\n",
    "arr"
   ]
  },
  {
   "cell_type": "code",
   "execution_count": 9,
   "id": "49f0a83c",
   "metadata": {},
   "outputs": [
    {
     "data": {
      "text/plain": [
       "numpy.ndarray"
      ]
     },
     "execution_count": 9,
     "metadata": {},
     "output_type": "execute_result"
    }
   ],
   "source": [
    "type(arr)"
   ]
  },
  {
   "cell_type": "code",
   "execution_count": 10,
   "id": "8cb43fc9",
   "metadata": {},
   "outputs": [
    {
     "data": {
      "text/plain": [
       "'1.21.5'"
      ]
     },
     "execution_count": 10,
     "metadata": {},
     "output_type": "execute_result"
    }
   ],
   "source": [
    "np.__version__"
   ]
  },
  {
   "cell_type": "markdown",
   "id": "88d16d46",
   "metadata": {},
   "source": [
    "## Create a NumPy ndarray Object\n",
    "NumPy is used to work with arrays. The array object in NumPy is called ndarray.\n",
    "\n",
    "We can create a NumPy ndarray object by using the array() function.\n",
    "\n",
    "To create an ndarray, we can pass a list, tuple or any array-like object into the array() method, \n",
    "and it will be converted into an ndarray"
   ]
  },
  {
   "cell_type": "code",
   "execution_count": 12,
   "id": "1040ae6b",
   "metadata": {
    "scrolled": true
   },
   "outputs": [
    {
     "name": "stdout",
     "output_type": "stream",
     "text": [
      "[1 2 3 4 5]\n",
      "<class 'numpy.ndarray'>\n"
     ]
    }
   ],
   "source": [
    "arr = np.array([1, 2, 3, 4, 5])\n",
    "\n",
    "print(arr)\n",
    "\n",
    "print(type(arr))"
   ]
  },
  {
   "cell_type": "markdown",
   "id": "1801e2c6",
   "metadata": {},
   "source": [
    "## Dimensions in Arrays\n",
    "A dimension in arrays is one level of array depth (nested arrays).\n",
    "\n",
    "nested array: are arrays that have arrays as their elements."
   ]
  },
  {
   "cell_type": "markdown",
   "id": "56197891",
   "metadata": {},
   "source": [
    "#### 0-D Arrays\n",
    "0-D arrays, or Scalars, are the elements in an array. Each value in an array is a 0-D array."
   ]
  },
  {
   "cell_type": "code",
   "execution_count": 15,
   "id": "b09b85b1",
   "metadata": {},
   "outputs": [],
   "source": [
    "#### Create a 0-D Array with value 42"
   ]
  },
  {
   "cell_type": "code",
   "execution_count": 16,
   "id": "7353f7e8",
   "metadata": {},
   "outputs": [
    {
     "data": {
      "text/plain": [
       "array(42)"
      ]
     },
     "execution_count": 16,
     "metadata": {},
     "output_type": "execute_result"
    }
   ],
   "source": [
    "arr1=np.array(42)\n",
    "arr1"
   ]
  },
  {
   "cell_type": "markdown",
   "id": "07e47070",
   "metadata": {},
   "source": [
    "#### Create a 1-D array containing the values 1,2,3,4,5:"
   ]
  },
  {
   "cell_type": "code",
   "execution_count": 17,
   "id": "327f6235",
   "metadata": {},
   "outputs": [
    {
     "data": {
      "text/plain": [
       "array([1, 2, 3, 4, 5])"
      ]
     },
     "execution_count": 17,
     "metadata": {},
     "output_type": "execute_result"
    }
   ],
   "source": [
    "arr = np.array([1, 2, 3, 4, 5])\n",
    "arr"
   ]
  },
  {
   "cell_type": "markdown",
   "id": "cc1f6672",
   "metadata": {},
   "source": [
    "#### 2-D Arrays\n",
    "An array that has 1-D arrays as its elements is called a 2-D array.\n",
    "\n",
    "These are often used to represent matrix or 2nd order tensors.\n",
    "\n",
    "NumPy has a whole sub module dedicated towards matrix operations called numpy.mat"
   ]
  },
  {
   "cell_type": "code",
   "execution_count": 20,
   "id": "39e29854",
   "metadata": {},
   "outputs": [
    {
     "data": {
      "text/plain": [
       "array([[1, 2, 3],\n",
       "       [6, 7, 8]])"
      ]
     },
     "execution_count": 20,
     "metadata": {},
     "output_type": "execute_result"
    }
   ],
   "source": [
    "arr3=np.array([[1,2,3],[6,7,8]])\n",
    "arr3"
   ]
  },
  {
   "cell_type": "markdown",
   "id": "e434461d",
   "metadata": {},
   "source": [
    "#### 3-D arrays\n",
    "An array that has 2-D arrays (matrices) as its elements is called 3-D array.\n",
    "\n",
    "These are often used to represent a 3rd order tensor."
   ]
  },
  {
   "cell_type": "code",
   "execution_count": 21,
   "id": "0edf0b3b",
   "metadata": {},
   "outputs": [
    {
     "data": {
      "text/plain": [
       "array([[[ 1,  2,  3],\n",
       "        [ 6,  7,  8]],\n",
       "\n",
       "       [[ 1,  2,  3],\n",
       "        [ 5, 34,  5]]])"
      ]
     },
     "execution_count": 21,
     "metadata": {},
     "output_type": "execute_result"
    }
   ],
   "source": [
    "arr4=np.array([[[1,2,3],[6,7,8]],[[1,2,3],[5,34,5]]])\n",
    "arr4"
   ]
  },
  {
   "cell_type": "code",
   "execution_count": 22,
   "id": "5dde0834",
   "metadata": {},
   "outputs": [
    {
     "data": {
      "text/plain": [
       "array([[[1, 2, 3],\n",
       "        [4, 5, 6]],\n",
       "\n",
       "       [[1, 2, 3],\n",
       "        [4, 5, 6]]])"
      ]
     },
     "execution_count": 22,
     "metadata": {},
     "output_type": "execute_result"
    }
   ],
   "source": [
    "arr5=np.array([[[1, 2, 3], [4, 5, 6]], [[1, 2, 3], [4, 5, 6]]])\n",
    "arr5"
   ]
  },
  {
   "cell_type": "markdown",
   "id": "8a6170ee",
   "metadata": {},
   "source": [
    "### Check Number of Dimensions?\n",
    "NumPy Arrays provides the ndim attribute that returns an integer that tells us how many dimensions the array have.\n",
    "\n"
   ]
  },
  {
   "cell_type": "code",
   "execution_count": 222,
   "id": "eb5dc259",
   "metadata": {},
   "outputs": [
    {
     "name": "stdout",
     "output_type": "stream",
     "text": [
      "0\n",
      "1\n",
      "2\n",
      "3\n"
     ]
    }
   ],
   "source": [
    "a=np.array(42)\n",
    "b=np.array([1, 2, 3, 4, 5])\n",
    "c=np.array([[1,2,3],[6,7,8]])\n",
    "d=np.array([[[1,2,3],[4,5,6]],[[9,8,7],[3,7,54]]])\n",
    "print(a.ndim)\n",
    "print(b.ndim)\n",
    "print(c.ndim)\n",
    "print(d.ndim)"
   ]
  },
  {
   "cell_type": "markdown",
   "id": "3222f91f",
   "metadata": {},
   "source": [
    "### Higher Dimensional Arrays\n",
    "An array can have any number of dimensions.\n",
    "\n",
    "When the array is created, you can define the number of dimensions by using the ndmin argument."
   ]
  },
  {
   "cell_type": "code",
   "execution_count": 231,
   "id": "3dc293db",
   "metadata": {},
   "outputs": [
    {
     "name": "stdout",
     "output_type": "stream",
     "text": [
      "[[[[1 2 3 4]]]]\n",
      "number of dimensions : 4\n"
     ]
    }
   ],
   "source": [
    "## Create an array with 5 dimensions and verify that it has 5 dimensions:\n",
    "\n",
    "\n",
    "arr1=np.array([1,2,3,4],ndmin=4)\n",
    "print(arr1)\n",
    "print('number of dimensions :', arr1.ndim)\n"
   ]
  },
  {
   "cell_type": "markdown",
   "id": "041eb623",
   "metadata": {},
   "source": [
    "### NumPy Array Indexing\n",
    "\n",
    "Access Array Elements\n",
    "\n",
    "Array indexing is the same as accessing an array element.\n",
    "\n",
    "You can access an array element by referring to its index number.\n",
    "\n",
    "The indexes in NumPy arrays start with 0, \n",
    "\n",
    "meaning that the first element has index 0, and the second has index 1 etc."
   ]
  },
  {
   "cell_type": "code",
   "execution_count": 30,
   "id": "41b9b9b6",
   "metadata": {},
   "outputs": [
    {
     "name": "stdout",
     "output_type": "stream",
     "text": [
      "1\n",
      "7\n"
     ]
    }
   ],
   "source": [
    "arr = np.array([1, 2, 3, 4])\n",
    "\n",
    "print(arr[0])\n",
    "print(arr[2] + arr[3])"
   ]
  },
  {
   "cell_type": "markdown",
   "id": "ec18fe99",
   "metadata": {},
   "source": [
    "### Access 2-D Arrays\n",
    "To access elements from 2-D arrays we can use comma separated integers representing the dimension and the index of the element.\n",
    "\n",
    "Think of 2-D arrays like a table with rows and columns, where the row represents the dimension and the index represents the column."
   ]
  },
  {
   "cell_type": "code",
   "execution_count": 37,
   "id": "58692ac7",
   "metadata": {},
   "outputs": [
    {
     "name": "stdout",
     "output_type": "stream",
     "text": [
      "2\n",
      "2\n"
     ]
    }
   ],
   "source": [
    "c=np.array([[1,2,3],[6,7,8]])\n",
    "print(c[0][1])\n",
    "print(c[0,1])\n"
   ]
  },
  {
   "cell_type": "code",
   "execution_count": 38,
   "id": "fd5ca2e0",
   "metadata": {},
   "outputs": [
    {
     "name": "stdout",
     "output_type": "stream",
     "text": [
      "5th element on 2nd row:  10\n"
     ]
    }
   ],
   "source": [
    "arr = np.array([[1,2,3,4,5], [6,7,8,9,10]])\n",
    "\n",
    "print('5th element on 2nd row: ', arr[1, 4])"
   ]
  },
  {
   "cell_type": "markdown",
   "id": "ee885da6",
   "metadata": {},
   "source": [
    "## Access 3-D Arrays\n",
    "To access elements from 3-D arrays we can use comma separated integers representing the dimensions and the index of the element.\n",
    "\n",
    "Example :\n",
    "Access the third element of the second array of the first array:"
   ]
  },
  {
   "cell_type": "code",
   "execution_count": 41,
   "id": "bb0a397b",
   "metadata": {},
   "outputs": [
    {
     "data": {
      "text/plain": [
       "6"
      ]
     },
     "execution_count": 41,
     "metadata": {},
     "output_type": "execute_result"
    }
   ],
   "source": [
    "d=np.array([[[1,2,3],[4,5,6]],[[9,8,7],[3,7,54]]])\n",
    "d[0,1,2]"
   ]
  },
  {
   "cell_type": "markdown",
   "id": "74a9695c",
   "metadata": {},
   "source": [
    "### Negative Indexing\n",
    "Use negative indexing to access an array from the end.\n",
    "\n",
    "Example:\n",
    "Print the last element from the 2nd dim:\n",
    "\n"
   ]
  },
  {
   "cell_type": "code",
   "execution_count": 43,
   "id": "fb39d54f",
   "metadata": {},
   "outputs": [
    {
     "name": "stdout",
     "output_type": "stream",
     "text": [
      "Last element from 2nd dim:  10\n"
     ]
    }
   ],
   "source": [
    "arr = np.array([[1,2,3,4,5], [6,7,8,9,10]])\n",
    "arr[0,-1]\n",
    "print('Last element from 2nd dim: ', arr[1, -1])\n"
   ]
  },
  {
   "cell_type": "markdown",
   "id": "549f3b4e",
   "metadata": {},
   "source": [
    "## NumPy Array Slicing"
   ]
  },
  {
   "cell_type": "markdown",
   "id": "ffac774e",
   "metadata": {},
   "source": [
    "### Slicing arrays\n",
    "Slicing in python means taking elements from one given index to another given index.\n",
    "\n",
    "We pass slice instead of index like this: [start:end].\n",
    "\n",
    "We can also define the step, like this: [start:end:step].\n",
    "\n",
    "If we don't pass start its considered 0\n",
    "\n",
    "If we don't pass end its considered length of array in that dimension\n",
    "\n",
    "If we don't pass step its considered 1"
   ]
  },
  {
   "cell_type": "code",
   "execution_count": 45,
   "id": "e313c129",
   "metadata": {},
   "outputs": [
    {
     "data": {
      "text/plain": [
       "array([1, 2])"
      ]
     },
     "execution_count": 45,
     "metadata": {},
     "output_type": "execute_result"
    }
   ],
   "source": [
    "b=np.array([1, 2, 3, 4, 5,6,7,8])\n",
    "b[0:2]"
   ]
  },
  {
   "cell_type": "code",
   "execution_count": 46,
   "id": "76659810",
   "metadata": {},
   "outputs": [
    {
     "data": {
      "text/plain": [
       "array([4, 5, 6, 7, 8])"
      ]
     },
     "execution_count": 46,
     "metadata": {},
     "output_type": "execute_result"
    }
   ],
   "source": [
    "b[3:]"
   ]
  },
  {
   "cell_type": "code",
   "execution_count": 48,
   "id": "e9a2b0a4",
   "metadata": {},
   "outputs": [
    {
     "data": {
      "text/plain": [
       "array([1, 2, 3])"
      ]
     },
     "execution_count": 48,
     "metadata": {},
     "output_type": "execute_result"
    }
   ],
   "source": [
    "b[:3]"
   ]
  },
  {
   "cell_type": "markdown",
   "id": "776d0ab1",
   "metadata": {},
   "source": [
    "#### Negative Slicing\n",
    "Use the minus operator to refer to an index from the end:"
   ]
  },
  {
   "cell_type": "code",
   "execution_count": 49,
   "id": "cc806814",
   "metadata": {},
   "outputs": [
    {
     "data": {
      "text/plain": [
       "array([6, 7])"
      ]
     },
     "execution_count": 49,
     "metadata": {},
     "output_type": "execute_result"
    }
   ],
   "source": [
    "b=np.array([1, 2, 3, 4, 5,6,7,8])\n",
    "b[-3:-1]"
   ]
  },
  {
   "cell_type": "markdown",
   "id": "d16d2b68",
   "metadata": {},
   "source": [
    "### STEP\n",
    "Use the step value to determine the step of the slicing:"
   ]
  },
  {
   "cell_type": "code",
   "execution_count": 50,
   "id": "4566be0a",
   "metadata": {},
   "outputs": [
    {
     "data": {
      "text/plain": [
       "array([2, 4])"
      ]
     },
     "execution_count": 50,
     "metadata": {},
     "output_type": "execute_result"
    }
   ],
   "source": [
    "b[1:5:2]"
   ]
  },
  {
   "cell_type": "code",
   "execution_count": 51,
   "id": "42397307",
   "metadata": {},
   "outputs": [
    {
     "data": {
      "text/plain": [
       "array([1, 3, 5, 7])"
      ]
     },
     "execution_count": 51,
     "metadata": {},
     "output_type": "execute_result"
    }
   ],
   "source": [
    "b[::2]"
   ]
  },
  {
   "cell_type": "markdown",
   "id": "81fad6d3",
   "metadata": {},
   "source": [
    "### Slicing 2-D Arrays\n",
    "Example:\n",
    "From the second element, slice elements from index 1 to index 4 (not included):"
   ]
  },
  {
   "cell_type": "code",
   "execution_count": 56,
   "id": "e46c4f63",
   "metadata": {},
   "outputs": [
    {
     "name": "stdout",
     "output_type": "stream",
     "text": [
      "[ 8  9 10]\n",
      "[7 8 9]\n"
     ]
    }
   ],
   "source": [
    "arr = np.array([[1, 2, 3, 4, 5], [6, 7, 8, 9, 10]])\n",
    "print(arr[1][2:])\n",
    "#or\n",
    "print(arr[1,1:4])"
   ]
  },
  {
   "cell_type": "code",
   "execution_count": 58,
   "id": "c8890dca",
   "metadata": {},
   "outputs": [],
   "source": [
    "### From both elements, return index 2:"
   ]
  },
  {
   "cell_type": "code",
   "execution_count": 57,
   "id": "605b45d8",
   "metadata": {},
   "outputs": [
    {
     "name": "stdout",
     "output_type": "stream",
     "text": [
      "[3 8]\n"
     ]
    }
   ],
   "source": [
    "print(arr[0:2, 2])"
   ]
  },
  {
   "cell_type": "code",
   "execution_count": 59,
   "id": "980c993b",
   "metadata": {},
   "outputs": [],
   "source": [
    "# From both elements, slice index 1 to index 4 (not included), this will return a 2-D array:"
   ]
  },
  {
   "cell_type": "code",
   "execution_count": 60,
   "id": "ae6d9efe",
   "metadata": {},
   "outputs": [
    {
     "data": {
      "text/plain": [
       "array([[2, 3, 4],\n",
       "       [7, 8, 9]])"
      ]
     },
     "execution_count": 60,
     "metadata": {},
     "output_type": "execute_result"
    }
   ],
   "source": [
    "arr[0:2,1:4]"
   ]
  },
  {
   "cell_type": "markdown",
   "id": "8e602a9b",
   "metadata": {},
   "source": [
    "# NumPy Data Types\n"
   ]
  },
  {
   "cell_type": "markdown",
   "id": "c8446b6f",
   "metadata": {},
   "source": [
    "## Data Types in Python\n",
    "By default Python have these data types:\n",
    "\n",
    "strings - used to represent text data, the text is given under quote marks. e.g. \"ABCD\"\n",
    "\n",
    "integer - used to represent integer numbers. e.g. -1, -2, -3\n",
    "\n",
    "float - used to represent real numbers. e.g. 1.2, 42.42\n",
    "\n",
    "boolean - used to represent True or False.\n",
    "\n",
    "complex - used to represent complex numbers. e.g. 1.0 + 2.0j, 1.5 + 2.5j\n",
    "\n",
    "Data Types in NumPy\n",
    "NumPy has some extra data types, and refer to data types with one character, like i for integers, u for unsigned integers etc.\n",
    "\n",
    "Below is a list of all data types in NumPy and the characters used to represent them.\n",
    "\n",
    "i - integer\n",
    "b - boolean\n",
    "u - unsigned integer\n",
    "f - float\n",
    "c - complex float\n",
    "m - timedelta\n",
    "M - datetime\n",
    "O - object\n",
    "S - string\n",
    "U - unicode string\n",
    "V - fixed chunk of memory for other type ( void )"
   ]
  },
  {
   "cell_type": "markdown",
   "id": "51cf9b35",
   "metadata": {},
   "source": [
    "## Checking the Data Type of an Array\n",
    "The NumPy array object has a property called dtype that returns the data type of the array:\n",
    "\n"
   ]
  },
  {
   "cell_type": "code",
   "execution_count": 64,
   "id": "06c98cdb",
   "metadata": {},
   "outputs": [
    {
     "name": "stdout",
     "output_type": "stream",
     "text": [
      "int64\n"
     ]
    }
   ],
   "source": [
    "arr = np.array([1, 2, 3, 4])\n",
    "\n",
    "print(arr.dtype)"
   ]
  },
  {
   "cell_type": "code",
   "execution_count": 69,
   "id": "59a9926e",
   "metadata": {},
   "outputs": [],
   "source": [
    "arr11 = np.array(['apple', 'banana', 'cherry'])\n"
   ]
  },
  {
   "cell_type": "code",
   "execution_count": 71,
   "id": "eb08ae9f",
   "metadata": {},
   "outputs": [
    {
     "name": "stdout",
     "output_type": "stream",
     "text": [
      "<U6\n"
     ]
    }
   ],
   "source": [
    "print(arr11.dtype)"
   ]
  },
  {
   "cell_type": "markdown",
   "id": "a5b14cdd",
   "metadata": {},
   "source": [
    "### Creating Arrays With a Defined Data Type\n",
    "We use the array() function to create arrays, this function can take an optional argument: dtype that allows us to define the expected data type of the array elements:"
   ]
  },
  {
   "cell_type": "code",
   "execution_count": 74,
   "id": "7d4012b7",
   "metadata": {},
   "outputs": [
    {
     "data": {
      "text/plain": [
       "dtype('S1')"
      ]
     },
     "execution_count": 74,
     "metadata": {},
     "output_type": "execute_result"
    }
   ],
   "source": [
    "arr=np.array([1,2,3,4],dtype='S')\n",
    "arr.dtype"
   ]
  },
  {
   "cell_type": "markdown",
   "id": "b2b91238",
   "metadata": {},
   "source": [
    "#### For i, u, f, S and U we can define size as well.\n",
    "\n",
    "Example\n",
    "Create an array with data type 4 bytes integer:"
   ]
  },
  {
   "cell_type": "code",
   "execution_count": 76,
   "id": "41f61478",
   "metadata": {},
   "outputs": [
    {
     "name": "stdout",
     "output_type": "stream",
     "text": [
      "[1 2 3 4]\n",
      "int32\n"
     ]
    }
   ],
   "source": [
    "arr = np.array([1, 2, 3, 4], dtype='i4')\n",
    "\n",
    "print(arr)\n",
    "print(arr.dtype)"
   ]
  },
  {
   "cell_type": "code",
   "execution_count": 78,
   "id": "317a0235",
   "metadata": {},
   "outputs": [
    {
     "ename": "ValueError",
     "evalue": "invalid literal for int() with base 10: 'a'",
     "output_type": "error",
     "traceback": [
      "\u001b[0;31m---------------------------------------------------------------------------\u001b[0m",
      "\u001b[0;31mValueError\u001b[0m                                Traceback (most recent call last)",
      "Input \u001b[0;32mIn [78]\u001b[0m, in \u001b[0;36m<cell line: 4>\u001b[0;34m()\u001b[0m\n\u001b[1;32m      1\u001b[0m \u001b[38;5;66;03m# A non integer string like 'a' can not be converted to integer (will raise an error):\u001b[39;00m\n\u001b[0;32m----> 4\u001b[0m arr \u001b[38;5;241m=\u001b[39m \u001b[43mnp\u001b[49m\u001b[38;5;241;43m.\u001b[39;49m\u001b[43marray\u001b[49m\u001b[43m(\u001b[49m\u001b[43m[\u001b[49m\u001b[38;5;124;43m'\u001b[39;49m\u001b[38;5;124;43ma\u001b[39;49m\u001b[38;5;124;43m'\u001b[39;49m\u001b[43m,\u001b[49m\u001b[43m \u001b[49m\u001b[38;5;124;43m'\u001b[39;49m\u001b[38;5;124;43m2\u001b[39;49m\u001b[38;5;124;43m'\u001b[39;49m\u001b[43m,\u001b[49m\u001b[43m \u001b[49m\u001b[38;5;124;43m'\u001b[39;49m\u001b[38;5;124;43m3\u001b[39;49m\u001b[38;5;124;43m'\u001b[39;49m\u001b[43m]\u001b[49m\u001b[43m,\u001b[49m\u001b[43m \u001b[49m\u001b[43mdtype\u001b[49m\u001b[38;5;241;43m=\u001b[39;49m\u001b[38;5;124;43m'\u001b[39;49m\u001b[38;5;124;43mi\u001b[39;49m\u001b[38;5;124;43m'\u001b[39;49m\u001b[43m)\u001b[49m\n",
      "\u001b[0;31mValueError\u001b[0m: invalid literal for int() with base 10: 'a'"
     ]
    }
   ],
   "source": [
    "# A non integer string like 'a' can not be converted to integer (will raise an error):\n",
    "\n",
    "\n",
    "arr = np.array(['a', '2', '3'], dtype='i')"
   ]
  },
  {
   "cell_type": "markdown",
   "id": "ff4e7bc5",
   "metadata": {},
   "source": [
    "# Converting Data Type on Existing Arrays\n",
    "The best way to change the data type of an existing array, is to make a copy of the array with the astype() method.\n",
    "\n",
    "The astype() function creates a copy of the array, and allows you to specify the data type as a parameter.\n",
    "\n",
    "The data type can be specified using a string, like 'f' for float, 'i' for integer etc. or you can use the data type directly like float for float and int for integer."
   ]
  },
  {
   "cell_type": "code",
   "execution_count": 82,
   "id": "6811c01c",
   "metadata": {},
   "outputs": [],
   "source": [
    "## Change data type from float to integer by using 'i' as parameter value:\n",
    "\n",
    "arr=np.array([1.3,4.54,6.4])\n",
    "newarr=arr.astype('int') \n",
    "# or\n",
    "newarr1=arr.astype('i')"
   ]
  },
  {
   "cell_type": "code",
   "execution_count": 81,
   "id": "4881c595",
   "metadata": {},
   "outputs": [
    {
     "data": {
      "text/plain": [
       "array([1, 4, 6])"
      ]
     },
     "execution_count": 81,
     "metadata": {},
     "output_type": "execute_result"
    }
   ],
   "source": [
    "newarr"
   ]
  },
  {
   "cell_type": "code",
   "execution_count": 85,
   "id": "ece02399",
   "metadata": {},
   "outputs": [
    {
     "name": "stdout",
     "output_type": "stream",
     "text": [
      "[1 4 6]\n",
      "int32\n"
     ]
    }
   ],
   "source": [
    "print(newarr1)\n",
    "print(newarr1.dtype)"
   ]
  },
  {
   "cell_type": "code",
   "execution_count": 87,
   "id": "32179429",
   "metadata": {},
   "outputs": [
    {
     "data": {
      "text/plain": [
       "array([ True,  True,  True, False,  True])"
      ]
     },
     "execution_count": 87,
     "metadata": {},
     "output_type": "execute_result"
    }
   ],
   "source": [
    "arr=np.array([1,2,3,0,5])\n",
    "newarr=arr.astype(bool)\n",
    "newarr"
   ]
  },
  {
   "cell_type": "code",
   "execution_count": 88,
   "id": "454aeecc",
   "metadata": {},
   "outputs": [
    {
     "data": {
      "text/plain": [
       "dtype('bool')"
      ]
     },
     "execution_count": 88,
     "metadata": {},
     "output_type": "execute_result"
    }
   ],
   "source": [
    "newarr.dtype"
   ]
  },
  {
   "cell_type": "markdown",
   "id": "004a4963",
   "metadata": {},
   "source": [
    "# NumPy Array Copy vs View\n",
    "\n",
    "The Difference Between Copy and View\n",
    "The main difference between a copy and a view of an array is that the copy is a new array, and the view is just a view of the original array.\n",
    "\n",
    "The copy owns the data and any changes made to the copy will not affect original array, and any changes made to the original array will not affect the copy.\n",
    "\n",
    "The view does not own the data and any changes made to the view will affect the original array, and any changes made to the original array will affect the view.\n",
    "\n",
    "# COPY"
   ]
  },
  {
   "cell_type": "code",
   "execution_count": 91,
   "id": "77f9efb7",
   "metadata": {},
   "outputs": [
    {
     "name": "stdout",
     "output_type": "stream",
     "text": [
      "[1 2 3 4 5 6 7 8 9]\n",
      "[1 2 3 4 5 6 7 8 9]\n",
      "[25  2  3  4  5  6  7  8  9]\n",
      "[1 2 3 4 5 6 7 8 9]\n"
     ]
    }
   ],
   "source": [
    "arr=np.array([1,2,3,4,5,6,7,8,9])\n",
    "x=arr.copy()\n",
    "print(arr)\n",
    "print(x)\n",
    "arr[0]=25\n",
    "print(arr)\n",
    "print(x)"
   ]
  },
  {
   "cell_type": "markdown",
   "id": "78959023",
   "metadata": {},
   "source": [
    "# VIEW:\n"
   ]
  },
  {
   "cell_type": "code",
   "execution_count": 93,
   "id": "5920a75c",
   "metadata": {},
   "outputs": [
    {
     "name": "stdout",
     "output_type": "stream",
     "text": [
      "[1 2 3 4 5 6 7 8 9]\n",
      "[1 2 3 4 5 6 7 8 9]\n",
      "[25  2  3  4  5  6  7  8  9]\n",
      "[25  2  3  4  5  6  7  8  9]\n",
      "[25 25  3  4  5  6  7  8  9]\n",
      "[25 25  3  4  5  6  7  8  9]\n"
     ]
    }
   ],
   "source": [
    "arr=np.array([1,2,3,4,5,6,7,8,9])\n",
    "x=arr.view()\n",
    "print(arr)\n",
    "print(x)\n",
    "\n",
    "arr[0]=25\n",
    "print(arr)\n",
    "print(x)\n",
    "\n",
    "x[1]=25\n",
    "print(arr)\n",
    "print(x)"
   ]
  },
  {
   "cell_type": "markdown",
   "id": "1f88fb95",
   "metadata": {},
   "source": [
    "# Check if Array Owns its Data\n",
    "\n",
    "As mentioned above, copies owns the data, and views does not own the data, but how can we check this?\n",
    "\n",
    "Every NumPy array has the attribute base that returns None if the array owns the data.\n",
    "\n",
    "Otherwise, the base  attribute refers to the original object.\n",
    "\n",
    "Example:\n",
    "Print the value of the base attribute to check if an array owns it's data or not:"
   ]
  },
  {
   "cell_type": "code",
   "execution_count": 94,
   "id": "857956f2",
   "metadata": {},
   "outputs": [
    {
     "name": "stdout",
     "output_type": "stream",
     "text": [
      "None\n",
      "[1 2 3 4 5]\n"
     ]
    }
   ],
   "source": [
    "arr=np.array([1,2,3,4,5])\n",
    "x=arr.copy()\n",
    "y=arr.view()\n",
    "\n",
    "print(x.base)\n",
    "print(y.base)"
   ]
  },
  {
   "cell_type": "markdown",
   "id": "53961d42",
   "metadata": {},
   "source": [
    "# NumPy Array Shape"
   ]
  },
  {
   "cell_type": "markdown",
   "id": "84a38806",
   "metadata": {},
   "source": [
    "## Shape of an Array\n",
    "The shape of an array is the number of elements in each dimension.\n",
    "\n",
    "### Get the Shape of an Array\n",
    "NumPy arrays have an attribute called shape that returns a tuple with each index having the number of corresponding elements.\n",
    "\n"
   ]
  },
  {
   "cell_type": "code",
   "execution_count": 99,
   "id": "5e69c16b",
   "metadata": {},
   "outputs": [
    {
     "data": {
      "text/plain": [
       "(2, 4)"
      ]
     },
     "execution_count": 99,
     "metadata": {},
     "output_type": "execute_result"
    }
   ],
   "source": [
    "#Print the shape of a 2-D array:\n",
    "\n",
    "arr=np.array([[1,2,2,3],[4,5,6,1]])\n",
    "arr.shape"
   ]
  },
  {
   "cell_type": "markdown",
   "id": "45e0a052",
   "metadata": {},
   "source": [
    "### Create an array with 5 dimensions using ndmin using a vector with values 1,2,3,4 and verify that last dimension has value 4:\n",
    "\n"
   ]
  },
  {
   "cell_type": "code",
   "execution_count": 101,
   "id": "9dad47dd",
   "metadata": {},
   "outputs": [],
   "source": [
    "arr=np.array([1,2,3,4],ndmin=5)"
   ]
  },
  {
   "cell_type": "code",
   "execution_count": 105,
   "id": "b4cda832",
   "metadata": {},
   "outputs": [
    {
     "name": "stdout",
     "output_type": "stream",
     "text": [
      "[[[[[1 2 3 4]]]]]\n",
      "(1, 1, 1, 1, 4)\n"
     ]
    }
   ],
   "source": [
    "print(arr)\n",
    "print(arr.shape)\n",
    "\n",
    "## What does the shape tuple represent?\n",
    "## Integers at every index tells about the number of elements the corresponding dimension has.\n",
    "\n",
    "## In the example above at index-4 we have value 4, so we can say that 5th ( 4 + 1 th) dimension has 4 elements."
   ]
  },
  {
   "cell_type": "markdown",
   "id": "3e24f618",
   "metadata": {},
   "source": [
    "# NumPy Array Reshaping\n",
    "\n",
    "## Reshaping arrays\n",
    "Reshaping means changing the shape of an array.\n",
    "\n",
    "The shape of an array is the number of elements in each dimension.\n",
    "\n",
    "By reshaping we can add or remove dimensions or change number of elements in each dimension.\n",
    "\n",
    "## Reshape From 1-D to 2-D :\n",
    "Example:\n",
    "Convert the following 1-D array with 12 elements into a 2-D array.\n",
    "\n",
    "The outermost dimension will have 4 arrays, each with 3 elements:"
   ]
  },
  {
   "cell_type": "code",
   "execution_count": 113,
   "id": "f2b29526",
   "metadata": {},
   "outputs": [
    {
     "name": "stdout",
     "output_type": "stream",
     "text": [
      "(12,)\n",
      "[[ 1  2  3]\n",
      " [ 4  5  6]\n",
      " [ 7  8  9]\n",
      " [10 11 12]]\n",
      "(4, 3)\n"
     ]
    }
   ],
   "source": [
    "arr=np.array([1,2,3,4,5,6,7,8,9,10,11,12])\n",
    "print(arr.shape)\n",
    "newarr=arr.reshape(4,3)\n",
    "print(newarr)\n",
    "print(newarr.shape)"
   ]
  },
  {
   "cell_type": "markdown",
   "id": "e8e9d319",
   "metadata": {},
   "source": [
    "# Reshape From 1-D to 3-D\n",
    "Example\n",
    "Convert the following 1-D array with 12 elements into a 3-D array.\n",
    "\n",
    "The outermost dimension will have 2 arrays that contains 3 arrays, each with 2 elements:"
   ]
  },
  {
   "cell_type": "code",
   "execution_count": 115,
   "id": "eeca3557",
   "metadata": {},
   "outputs": [
    {
     "name": "stdout",
     "output_type": "stream",
     "text": [
      "(12,)\n",
      "[[[ 1  2]\n",
      "  [ 3  4]\n",
      "  [ 5  6]]\n",
      "\n",
      " [[ 7  8]\n",
      "  [ 9 10]\n",
      "  [11 12]]]\n",
      "(2, 3, 2)\n"
     ]
    }
   ],
   "source": [
    "arr=np.array([1,2,3,4,5,6,7,8,9,10,11,12])\n",
    "print(arr.shape)\n",
    "newarr=arr.reshape(2,3,2)\n",
    "print(newarr)\n",
    "print(newarr.shape)"
   ]
  },
  {
   "cell_type": "code",
   "execution_count": 116,
   "id": "a744c2e7",
   "metadata": {},
   "outputs": [
    {
     "ename": "ValueError",
     "evalue": "cannot reshape array of size 8 into shape (3,3)",
     "output_type": "error",
     "traceback": [
      "\u001b[0;31m---------------------------------------------------------------------------\u001b[0m",
      "\u001b[0;31mValueError\u001b[0m                                Traceback (most recent call last)",
      "Input \u001b[0;32mIn [116]\u001b[0m, in \u001b[0;36m<cell line: 6>\u001b[0;34m()\u001b[0m\n\u001b[1;32m      1\u001b[0m \u001b[38;5;66;03m# Example\u001b[39;00m\n\u001b[1;32m      2\u001b[0m \u001b[38;5;66;03m# Try converting 1D array with 8 elements to a 2D array with 3 elements in each dimension (will raise an error):\u001b[39;00m\n\u001b[1;32m      4\u001b[0m arr \u001b[38;5;241m=\u001b[39m np\u001b[38;5;241m.\u001b[39marray([\u001b[38;5;241m1\u001b[39m, \u001b[38;5;241m2\u001b[39m, \u001b[38;5;241m3\u001b[39m, \u001b[38;5;241m4\u001b[39m, \u001b[38;5;241m5\u001b[39m, \u001b[38;5;241m6\u001b[39m, \u001b[38;5;241m7\u001b[39m, \u001b[38;5;241m8\u001b[39m])\n\u001b[0;32m----> 6\u001b[0m newarr \u001b[38;5;241m=\u001b[39m \u001b[43marr\u001b[49m\u001b[38;5;241;43m.\u001b[39;49m\u001b[43mreshape\u001b[49m\u001b[43m(\u001b[49m\u001b[38;5;241;43m3\u001b[39;49m\u001b[43m,\u001b[49m\u001b[43m \u001b[49m\u001b[38;5;241;43m3\u001b[39;49m\u001b[43m)\u001b[49m\n\u001b[1;32m      8\u001b[0m \u001b[38;5;28mprint\u001b[39m(newarr)\n",
      "\u001b[0;31mValueError\u001b[0m: cannot reshape array of size 8 into shape (3,3)"
     ]
    }
   ],
   "source": [
    "# Example\n",
    "# Try converting 1D array with 8 elements to a 2D array with 3 elements in each dimension (will raise an error):\n",
    "\n",
    "arr = np.array([1, 2, 3, 4, 5, 6, 7, 8])\n",
    "\n",
    "newarr = arr.reshape(3, 3)\n",
    "\n",
    "print(newarr)"
   ]
  },
  {
   "cell_type": "markdown",
   "id": "248f66ca",
   "metadata": {},
   "source": [
    "## Returns Copy or View?\n",
    "Example\n",
    "Check if the returned array is a copy or a view:"
   ]
  },
  {
   "cell_type": "code",
   "execution_count": 118,
   "id": "16b8bb60",
   "metadata": {},
   "outputs": [
    {
     "name": "stdout",
     "output_type": "stream",
     "text": [
      "[1 2 3 4 5 6 7 8]\n"
     ]
    }
   ],
   "source": [
    "arr = np.array([1, 2, 3, 4, 5, 6, 7, 8])\n",
    "print(arr.reshape(2,4).base)\n",
    "\n",
    "# The example above returns the original array, so it is a view.\n",
    "\n"
   ]
  },
  {
   "cell_type": "markdown",
   "id": "894b3fdc",
   "metadata": {},
   "source": [
    "# Unknown Dimension\n",
    "You are allowed to have one \"unknown\" dimension.\n",
    "\n",
    "Meaning that you do not have to specify an exact number for one of the dimensions in the reshape method.\n",
    "\n",
    "Pass -1 as the value, and NumPy will calculate this number for you.\n",
    "\n",
    "Example\n",
    "Convert 1D array with 8 elements to 3D array with 2x2 elements:\n",
    "\n",
    "####  Note: We can not pass -1 to more than one dimension."
   ]
  },
  {
   "cell_type": "code",
   "execution_count": 119,
   "id": "1b96006c",
   "metadata": {},
   "outputs": [
    {
     "data": {
      "text/plain": [
       "array([[[1, 2],\n",
       "        [3, 4]],\n",
       "\n",
       "       [[5, 6],\n",
       "        [7, 8]]])"
      ]
     },
     "execution_count": 119,
     "metadata": {},
     "output_type": "execute_result"
    }
   ],
   "source": [
    "arr = np.array([1, 2, 3, 4, 5, 6, 7, 8])\n",
    "newarr=arr.reshape(2,2,-1)\n",
    "newarr\n",
    "\n"
   ]
  },
  {
   "cell_type": "markdown",
   "id": "fae27bb9",
   "metadata": {},
   "source": [
    "# Flattening the arrays\n",
    "Flattening array means converting a multidimensional array into a 1D array.\n",
    "\n",
    "We can use reshape(-1) to do this.\n",
    "\n",
    "Example\n",
    "Convert the array into a 1D array:\n",
    "\n",
    "##### Note: There are a lot of functions for changing the shapes of arrays in numpy flatten, ravel and also for rearranging the elements rot90, flip, fliplr, flipud etc. These fall under Intermediate to Advanced section of numpy.\n"
   ]
  },
  {
   "cell_type": "code",
   "execution_count": 120,
   "id": "21562011",
   "metadata": {},
   "outputs": [
    {
     "name": "stdout",
     "output_type": "stream",
     "text": [
      "[1 2 3 4 5 6]\n"
     ]
    }
   ],
   "source": [
    "arr = np.array([[1, 2, 3], [4, 5, 6]])\n",
    "newarr = arr.reshape(-1)\n",
    "print(newarr)"
   ]
  },
  {
   "cell_type": "markdown",
   "id": "92b9f0fc",
   "metadata": {},
   "source": [
    "# NumPy Array Iterating"
   ]
  },
  {
   "cell_type": "code",
   "execution_count": 121,
   "id": "aed46be5",
   "metadata": {},
   "outputs": [
    {
     "name": "stdout",
     "output_type": "stream",
     "text": [
      "1\n",
      "2\n",
      "3\n",
      "4\n"
     ]
    }
   ],
   "source": [
    "#1-D Array\n",
    "arr=np.array([1,2,3,4])\n",
    "for x in arr:\n",
    "    print(x)"
   ]
  },
  {
   "cell_type": "code",
   "execution_count": 122,
   "id": "d2430257",
   "metadata": {},
   "outputs": [
    {
     "name": "stdout",
     "output_type": "stream",
     "text": [
      "[1 2 3]\n",
      "[4 5 6]\n"
     ]
    }
   ],
   "source": [
    "# 2-D Array:\n",
    "arr = np.array([[1, 2, 3], [4, 5, 6]])\n",
    "for x in arr:\n",
    "    print(x)"
   ]
  },
  {
   "cell_type": "code",
   "execution_count": 123,
   "id": "06938bd1",
   "metadata": {},
   "outputs": [
    {
     "name": "stdout",
     "output_type": "stream",
     "text": [
      "[1 2 3]\n",
      "--------\n",
      "1\n",
      "2\n",
      "3\n",
      "[4 5 6]\n",
      "--------\n",
      "4\n",
      "5\n",
      "6\n"
     ]
    }
   ],
   "source": [
    "# Iterate on each scalar element of the 2-D array:\n",
    "arr = np.array([[1, 2, 3], [4, 5, 6]])\n",
    "for x in arr:\n",
    "    print(x)\n",
    "    print('--------')\n",
    "    for y in x:\n",
    "        print(y)\n"
   ]
  },
  {
   "cell_type": "code",
   "execution_count": 126,
   "id": "677d4e9f",
   "metadata": {},
   "outputs": [
    {
     "name": "stdout",
     "output_type": "stream",
     "text": [
      "[[1 2 3]\n",
      " [4 5 6]]\n",
      "[[ 7  8  9]\n",
      " [10 11 12]]\n"
     ]
    }
   ],
   "source": [
    "# Iterating 3-D Arrays\n",
    "#In a 3-D array it will go through all the 2-D arrays.\n",
    "\n",
    "arr=np.array([[[1,2,3],[4,5,6]],[[7,8,9],[10,11,12]]])\n",
    "for x in arr:\n",
    "    print(x)"
   ]
  },
  {
   "cell_type": "code",
   "execution_count": 130,
   "id": "e205b892",
   "metadata": {},
   "outputs": [
    {
     "name": "stdout",
     "output_type": "stream",
     "text": [
      "__X Value___\n",
      "[[1 2 3]\n",
      " [4 5 6]]\n",
      "***Y VALUE******\n",
      "[1 2 3]\n",
      "+++ Z VALUE ++++\n",
      "1\n",
      "+++ Z VALUE ++++\n",
      "2\n",
      "+++ Z VALUE ++++\n",
      "3\n",
      "***Y VALUE******\n",
      "[4 5 6]\n",
      "+++ Z VALUE ++++\n",
      "4\n",
      "+++ Z VALUE ++++\n",
      "5\n",
      "+++ Z VALUE ++++\n",
      "6\n",
      "__X Value___\n",
      "[[ 7  8  9]\n",
      " [10 11 12]]\n",
      "***Y VALUE******\n",
      "[7 8 9]\n",
      "+++ Z VALUE ++++\n",
      "7\n",
      "+++ Z VALUE ++++\n",
      "8\n",
      "+++ Z VALUE ++++\n",
      "9\n",
      "***Y VALUE******\n",
      "[10 11 12]\n",
      "+++ Z VALUE ++++\n",
      "10\n",
      "+++ Z VALUE ++++\n",
      "11\n",
      "+++ Z VALUE ++++\n",
      "12\n"
     ]
    }
   ],
   "source": [
    "# Iterate on each scalar element of the 3-D array:\n",
    "arr=np.array([[[1,2,3],[4,5,6]],[[7,8,9],[10,11,12]]])\n",
    "for x in arr:\n",
    "    print('__X Value___')\n",
    "    print(x)\n",
    "    \n",
    "    for y in x:\n",
    "        print('***Y VALUE******')\n",
    "        print(y)\n",
    "       \n",
    "        for z in y:\n",
    "            print('+++ Z VALUE ++++')\n",
    "            print(z)"
   ]
  },
  {
   "cell_type": "markdown",
   "id": "01845311",
   "metadata": {},
   "source": [
    "# Iterating Arrays Using nditer()\n",
    "The function nditer() is a helping function that can be used from very basic to very advanced iterations. It solves some basic issues which we face in iteration, lets go through it with examples.\n",
    "\n",
    "Iterating on Each Scalar Element\n",
    "In basic for loops, iterating through each scalar of an array we need to use n for loops which can be difficult to write for arrays with very high dimensionality.\n",
    "\n",
    "Example: \n",
    "Iterate through the following 3-D array:"
   ]
  },
  {
   "cell_type": "code",
   "execution_count": 131,
   "id": "1b05d7fc",
   "metadata": {},
   "outputs": [
    {
     "name": "stdout",
     "output_type": "stream",
     "text": [
      "1\n",
      "2\n",
      "3\n",
      "4\n",
      "5\n",
      "6\n",
      "7\n",
      "8\n"
     ]
    }
   ],
   "source": [
    "\n",
    "arr = np.array([[[1, 2], [3, 4]], [[5, 6], [7, 8]]])\n",
    "\n",
    "for x in np.nditer(arr):\n",
    "  print(x)"
   ]
  },
  {
   "cell_type": "markdown",
   "id": "791c5db8",
   "metadata": {},
   "source": [
    "# Iterating Array With Different Data Types\n",
    "We can use op_dtypes argument and pass it the expected datatype to change the datatype of elements while iterating.\n",
    "\n",
    "NumPy does not change the data type of the element in-place (where the element is in array) so it needs some other space to perform this action, that extra space is called buffer, and in order to enable it in nditer() we pass flags=['buffered'].\n",
    "\n",
    "Example:  \n",
    "Iterate through the array as a string:\n"
   ]
  },
  {
   "cell_type": "code",
   "execution_count": 134,
   "id": "957d07e2",
   "metadata": {},
   "outputs": [
    {
     "name": "stdout",
     "output_type": "stream",
     "text": [
      "b'1'\n",
      "b'2'\n",
      "b'3'\n"
     ]
    }
   ],
   "source": [
    "arr = np.array([1, 2, 3])\n",
    "for x in np.nditer(arr, flags=['buffered'], op_dtypes=['S']):\n",
    "  print(x)"
   ]
  },
  {
   "cell_type": "code",
   "execution_count": 136,
   "id": "d80fbd69",
   "metadata": {},
   "outputs": [],
   "source": [
    "# Iterating With Different Step Size\n",
    "# We can use filtering and followed by iteration."
   ]
  },
  {
   "cell_type": "code",
   "execution_count": 140,
   "id": "a612977a",
   "metadata": {},
   "outputs": [
    {
     "data": {
      "text/plain": [
       "array([[1, 3],\n",
       "       [5, 7]])"
      ]
     },
     "execution_count": 140,
     "metadata": {},
     "output_type": "execute_result"
    }
   ],
   "source": [
    "arr = np.array([[1, 2, 3, 4], [5, 6, 7, 8]])\n",
    "arr[:,::2]"
   ]
  },
  {
   "cell_type": "code",
   "execution_count": 142,
   "id": "8470157b",
   "metadata": {},
   "outputs": [
    {
     "name": "stdout",
     "output_type": "stream",
     "text": [
      "1\n",
      "3\n",
      "5\n",
      "7\n"
     ]
    }
   ],
   "source": [
    "arr = np.array([[1, 2, 3, 4], [5, 6, 7, 8]])\n",
    "for x in np.nditer(arr[:,::2]):\n",
    "    print(x)"
   ]
  },
  {
   "cell_type": "markdown",
   "id": "4176c2f5",
   "metadata": {},
   "source": [
    "### Enumerated Iteration Using ndenumerate()\n",
    "Enumeration means mentioning sequence number of somethings one by one.\n",
    "\n",
    "Sometimes we require corresponding index of the element while iterating, the ndenumerate() method can be used for those usecases.\n",
    "\n",
    "\n",
    "Example :\n",
    "Enumerate on following 1D arrays elements:\n"
   ]
  },
  {
   "cell_type": "code",
   "execution_count": 143,
   "id": "9a85b403",
   "metadata": {},
   "outputs": [
    {
     "name": "stdout",
     "output_type": "stream",
     "text": [
      "(0,) 1\n",
      "(1,) 2\n",
      "(2,) 3\n"
     ]
    }
   ],
   "source": [
    "arr = np.array([1, 2, 3])\n",
    "for idx, x in np.ndenumerate(arr):\n",
    "  print(idx, x)"
   ]
  },
  {
   "cell_type": "code",
   "execution_count": 144,
   "id": "6bba5ed0",
   "metadata": {},
   "outputs": [
    {
     "name": "stdout",
     "output_type": "stream",
     "text": [
      "(0, 0) 1\n",
      "(0, 1) 2\n",
      "(0, 2) 3\n",
      "(0, 3) 4\n",
      "(1, 0) 5\n",
      "(1, 1) 6\n",
      "(1, 2) 7\n",
      "(1, 3) 8\n"
     ]
    }
   ],
   "source": [
    "## Example :Enumerate on following 2D array's elements:\n",
    "arr = np.array([[1, 2, 3, 4], [5, 6, 7, 8]])\n",
    "for idx,x in np.ndenumerate(arr):\n",
    "    print(idx,x)"
   ]
  },
  {
   "cell_type": "markdown",
   "id": "e817361b",
   "metadata": {},
   "source": [
    "# NumPy Joining Array\n",
    "\n",
    "#### Joining NumPy Arrays\n",
    "Joining means putting contents of two or more arrays in a single array.\n",
    "\n",
    "In SQL we join tables based on a key, whereas in NumPy we join arrays by axes.\n",
    "\n",
    "We pass a sequence of arrays that we want to join to the concatenate() function, along with the axis. If axis is not explicitly passed, it is taken as 0."
   ]
  },
  {
   "cell_type": "code",
   "execution_count": 146,
   "id": "b3c8b3e9",
   "metadata": {},
   "outputs": [
    {
     "data": {
      "text/plain": [
       "array([1, 2, 3, 4, 5, 6])"
      ]
     },
     "execution_count": 146,
     "metadata": {},
     "output_type": "execute_result"
    }
   ],
   "source": [
    "arr1=np.array([1,2,3])\n",
    "arr2=np.array([4,5,6])\n",
    "arr=np.concatenate((arr1,arr2))\n",
    "arr"
   ]
  },
  {
   "cell_type": "code",
   "execution_count": 153,
   "id": "2651d92d",
   "metadata": {},
   "outputs": [
    {
     "name": "stdout",
     "output_type": "stream",
     "text": [
      "[[1 2]\n",
      " [3 4]\n",
      " [5 6]\n",
      " [7 8]]\n",
      "(4, 2)\n"
     ]
    }
   ],
   "source": [
    "arr1=np.array([[1,2],[3,4]])\n",
    "arr2=np.array([[5,6],[7,8]])\n",
    "arr=np.concatenate((arr1,arr2))\n",
    "print(arr)\n",
    "print(arr.shape)"
   ]
  },
  {
   "cell_type": "code",
   "execution_count": 156,
   "id": "9bd7c8fe",
   "metadata": {},
   "outputs": [
    {
     "name": "stdout",
     "output_type": "stream",
     "text": [
      "[[1 2 5 6]\n",
      " [3 4 7 8]]\n",
      "(2, 4)\n"
     ]
    }
   ],
   "source": [
    "arr=np.concatenate((arr1,arr2),axis=1)\n",
    "print(arr)\n",
    "print(arr.shape)"
   ]
  },
  {
   "cell_type": "markdown",
   "id": "231e36c2",
   "metadata": {},
   "source": [
    "## Joining Arrays Using Stack Functions\n",
    "Stacking is same as concatenation, the only difference is that stacking is done along a new axis.\n",
    "\n",
    "We can concatenate two 1-D arrays along the second axis which would result in putting them one over the other, ie. stacking.\n",
    "\n",
    "We pass a sequence of arrays that we want to join to the stack() method along with the axis. If axis is not explicitly passed it is taken as 0."
   ]
  },
  {
   "cell_type": "code",
   "execution_count": 164,
   "id": "3c2bce32",
   "metadata": {},
   "outputs": [
    {
     "data": {
      "text/plain": [
       "array([[1, 2, 3, 3],\n",
       "       [4, 5, 6, 4]])"
      ]
     },
     "execution_count": 164,
     "metadata": {},
     "output_type": "execute_result"
    }
   ],
   "source": [
    "arr1 = np.array([1, 2, 3,3])\n",
    "arr2 = np.array([4, 5, 6,4])\n",
    "arr=np.stack((arr1,arr2))\n",
    "arr"
   ]
  },
  {
   "cell_type": "code",
   "execution_count": 166,
   "id": "deb17b06",
   "metadata": {},
   "outputs": [
    {
     "data": {
      "text/plain": [
       "array([[1, 4],\n",
       "       [2, 5],\n",
       "       [3, 6],\n",
       "       [3, 4]])"
      ]
     },
     "execution_count": 166,
     "metadata": {},
     "output_type": "execute_result"
    }
   ],
   "source": [
    "arr=np.stack((arr1,arr2),axis=1)\n",
    "arr"
   ]
  },
  {
   "cell_type": "markdown",
   "id": "1bf7d7bd",
   "metadata": {},
   "source": [
    "### Stacking Along Rows\n",
    "NumPy provides a helper function: hstack() to stack along rows.\n",
    "\n"
   ]
  },
  {
   "cell_type": "code",
   "execution_count": 167,
   "id": "f136dc7a",
   "metadata": {},
   "outputs": [
    {
     "data": {
      "text/plain": [
       "array([1, 2, 3, 3, 4, 5, 6, 4])"
      ]
     },
     "execution_count": 167,
     "metadata": {},
     "output_type": "execute_result"
    }
   ],
   "source": [
    "arr1 = np.array([1, 2, 3,3])\n",
    "arr2 = np.array([4, 5, 6,4])\n",
    "arr=np.hstack((arr1,arr2))\n",
    "arr"
   ]
  },
  {
   "cell_type": "markdown",
   "id": "202b3c5c",
   "metadata": {},
   "source": [
    "### Stacking Along Columns\n",
    "NumPy provides a helper function: vstack()  to stack along columns.\n",
    "\n"
   ]
  },
  {
   "cell_type": "code",
   "execution_count": 168,
   "id": "ad7023b9",
   "metadata": {},
   "outputs": [
    {
     "data": {
      "text/plain": [
       "array([[1, 2, 3, 3],\n",
       "       [4, 5, 6, 4]])"
      ]
     },
     "execution_count": 168,
     "metadata": {},
     "output_type": "execute_result"
    }
   ],
   "source": [
    "arr1 = np.array([1, 2, 3,3])\n",
    "arr2 = np.array([4, 5, 6,4])\n",
    "arr=np.vstack((arr1,arr2))\n",
    "arr"
   ]
  },
  {
   "cell_type": "markdown",
   "id": "7b33b89b",
   "metadata": {},
   "source": [
    "### Stacking Along Height (depth)\n",
    "NumPy provides a helper function: dstack() to stack along height, which is the same as depth.\n",
    "\n"
   ]
  },
  {
   "cell_type": "code",
   "execution_count": 169,
   "id": "1fef5d13",
   "metadata": {},
   "outputs": [
    {
     "data": {
      "text/plain": [
       "array([[[1, 4],\n",
       "        [2, 5],\n",
       "        [3, 6]]])"
      ]
     },
     "execution_count": 169,
     "metadata": {},
     "output_type": "execute_result"
    }
   ],
   "source": [
    "arr1 = np.array([1, 2, 3])\n",
    "arr2 = np.array([4, 5, 6])\n",
    "arr = np.dstack((arr1, arr2))\n",
    "arr"
   ]
  },
  {
   "cell_type": "code",
   "execution_count": 170,
   "id": "a66a6c71",
   "metadata": {},
   "outputs": [
    {
     "data": {
      "text/plain": [
       "numpy.ndarray"
      ]
     },
     "execution_count": 170,
     "metadata": {},
     "output_type": "execute_result"
    }
   ],
   "source": [
    "type(arr)"
   ]
  },
  {
   "cell_type": "code",
   "execution_count": 171,
   "id": "3c80d674",
   "metadata": {},
   "outputs": [
    {
     "data": {
      "text/plain": [
       "(1, 3, 2)"
      ]
     },
     "execution_count": 171,
     "metadata": {},
     "output_type": "execute_result"
    }
   ],
   "source": [
    "arr.shape"
   ]
  },
  {
   "cell_type": "markdown",
   "id": "4b14c8b3",
   "metadata": {},
   "source": [
    "# NumPy Splitting Array\n",
    "\n",
    "### Splitting NumPy Arrays\n",
    "Splitting is reverse operation of Joining.\n",
    "\n",
    "Joining merges multiple arrays into one and Splitting breaks one array into multiple.\n",
    "\n",
    "We use array_split() for splitting arrays, we pass it the array we want to split and the number of splits.\n",
    "\n"
   ]
  },
  {
   "cell_type": "code",
   "execution_count": 182,
   "id": "c2bf709a",
   "metadata": {},
   "outputs": [
    {
     "name": "stdout",
     "output_type": "stream",
     "text": [
      "[array([1, 2, 3]), array([3, 4, 5]), array([6, 4])]\n",
      "<class 'list'>\n"
     ]
    }
   ],
   "source": [
    "# Split the array in 3 parts:\n",
    "arr=np.array([1, 2, 3, 3, 4, 5, 6, 4])\n",
    "newarr=np.array_split(arr,3)\n",
    "print(newarr)\n",
    "print(type(newarr))"
   ]
  },
  {
   "cell_type": "code",
   "execution_count": 187,
   "id": "f8ad45e9",
   "metadata": {},
   "outputs": [
    {
     "data": {
      "text/plain": [
       "array([[[[[[[[[[[[[[[[[[[1, 2, 3, 3, 4, 5, 6, 4]]]]]]]]]]]]]]]]]]])"
      ]
     },
     "execution_count": 187,
     "metadata": {},
     "output_type": "execute_result"
    }
   ],
   "source": [
    "arr=np.array([1, 2, 3, 3, 4, 5, 6, 4],ndmin=19)\n",
    "arr"
   ]
  },
  {
   "cell_type": "code",
   "execution_count": 188,
   "id": "bf83ac93",
   "metadata": {},
   "outputs": [
    {
     "data": {
      "text/plain": [
       "(1, 1, 1, 1, 1, 1, 1, 1, 1, 1, 1, 1, 1, 1, 1, 1, 1, 1, 8)"
      ]
     },
     "execution_count": 188,
     "metadata": {},
     "output_type": "execute_result"
    }
   ],
   "source": [
    "arr.shape"
   ]
  },
  {
   "cell_type": "code",
   "execution_count": 196,
   "id": "772ad67f",
   "metadata": {},
   "outputs": [],
   "source": [
    "unm=1000\n",
    "import sys"
   ]
  },
  {
   "cell_type": "code",
   "execution_count": 198,
   "id": "c6cb6021",
   "metadata": {},
   "outputs": [
    {
     "data": {
      "text/plain": [
       "(28, 'bytes')"
      ]
     },
     "execution_count": 198,
     "metadata": {},
     "output_type": "execute_result"
    }
   ],
   "source": [
    "sys.getsizeof(1000),'bytes'"
   ]
  },
  {
   "cell_type": "code",
   "execution_count": 201,
   "id": "c62e8648",
   "metadata": {},
   "outputs": [
    {
     "data": {
      "text/plain": [
       "64"
      ]
     },
     "execution_count": 201,
     "metadata": {},
     "output_type": "execute_result"
    }
   ],
   "source": [
    "arr.nbytes"
   ]
  },
  {
   "cell_type": "code",
   "execution_count": 253,
   "id": "afd47087",
   "metadata": {},
   "outputs": [
    {
     "name": "stderr",
     "output_type": "stream",
     "text": [
      "IOPub data rate exceeded.\n",
      "The notebook server will temporarily stop sending output\n",
      "to the client in order to avoid crashing it.\n",
      "To change this limit, set the config variable\n",
      "`--NotebookApp.iopub_data_rate_limit`.\n",
      "\n",
      "Current values:\n",
      "NotebookApp.iopub_data_rate_limit=1000000.0 (bytes/sec)\n",
      "NotebookApp.rate_limit_window=3.0 (secs)\n",
      "\n"
     ]
    }
   ],
   "source": [
    "import time\n",
    "size = 1000000\n",
    "#assigned range from 0 to 1Mill\n",
    "#Created A1 and A2\n",
    "A1 = range(size)\n",
    "A2 = range(size)\n",
    "\n",
    "#Created Numpy array\n",
    "L1 = np.array(size)\n",
    "L2 = np.array(size)\n",
    "\n",
    "#Operation using list\n",
    "start_time = time.time()\n",
    "result = [x+y for x,y in zip(A1,A2)]\n",
    "stop_time = time.time()\n",
    "print('python took ', (stop_time-start_time) )\n",
    "\n",
    "#Operation using Numpy\n",
    "start_time = time.time()\n",
    "res= L1 + L2\n",
    "stop_time = time.time()\n",
    "print('Numpy took ', (stop_time-start_time) )\n",
    "\n",
    "print(result)\n"
   ]
  },
  {
   "cell_type": "code",
   "execution_count": 241,
   "id": "2347e70d",
   "metadata": {},
   "outputs": [
    {
     "data": {
      "text/plain": [
       "array([[[ 1,  2,  3],\n",
       "        [ 4,  5,  6]],\n",
       "\n",
       "       [[ 9,  8,  7],\n",
       "        [ 3, 71, 54]],\n",
       "\n",
       "       [[11, 12, 13],\n",
       "        [14, 15, 16]]])"
      ]
     },
     "execution_count": 241,
     "metadata": {},
     "output_type": "execute_result"
    }
   ],
   "source": [
    "a=np.array(([[[1,2,3],[4,5,6]],[[9,8,7],[3,71,54]],[[11,12,13],[14,15,16]]]))\n",
    "a"
   ]
  },
  {
   "cell_type": "code",
   "execution_count": 244,
   "id": "c2bd5ec5",
   "metadata": {},
   "outputs": [
    {
     "data": {
      "text/plain": [
       "array([[[ 1,  2],\n",
       "        [ 4,  5]],\n",
       "\n",
       "       [[ 9,  8],\n",
       "        [ 3, 71]]])"
      ]
     },
     "execution_count": 244,
     "metadata": {},
     "output_type": "execute_result"
    }
   ],
   "source": [
    "a[:2,0:3,:-1]"
   ]
  },
  {
   "cell_type": "code",
   "execution_count": 114,
   "id": "f6a8fee7",
   "metadata": {},
   "outputs": [
    {
     "data": {
      "text/plain": [
       "array([[[ 1,  2,  3,  4],\n",
       "        [ 4,  5,  6,  4]],\n",
       "\n",
       "       [[ 9,  8,  7,  4],\n",
       "        [ 3,  7, 54,  4]],\n",
       "\n",
       "       [[11, 21, 31, 41],\n",
       "        [14, 15, 16, 14]]])"
      ]
     },
     "execution_count": 114,
     "metadata": {},
     "output_type": "execute_result"
    }
   ],
   "source": [
    "z=[[[1,2,3,4],[4,5,6,4]],[[9,8,7,4],[3,7,54,4]],[[11,21,31,41],[14,15,16,14]]]\n",
    "y=np.array(z)\n",
    "y"
   ]
  },
  {
   "cell_type": "code",
   "execution_count": 116,
   "id": "39cbedd1",
   "metadata": {},
   "outputs": [
    {
     "name": "stdout",
     "output_type": "stream",
     "text": [
      "Column Sum value is  [[21 31 41 49]\n",
      " [21 27 76 22]]\n",
      "Row Sum value is  [[ 5  7  9  8]\n",
      " [12 15 61  8]\n",
      " [25 36 47 55]]\n"
     ]
    }
   ],
   "source": [
    "print('Column Sum value is ', np.sum(y,axis=0))\n",
    "print('Row Sum value is ', np.sum(y,axis=1))"
   ]
  },
  {
   "cell_type": "code",
   "execution_count": 115,
   "id": "88838453",
   "metadata": {},
   "outputs": [
    {
     "name": "stdout",
     "output_type": "stream",
     "text": [
      "Mean value is  12.0\n",
      "max value is  54\n",
      "Min value is  1\n",
      "Sum value is  288\n"
     ]
    }
   ],
   "source": [
    "print('Mean value is ', y.mean())\n",
    "print('max value is ', y.max())\n",
    "print('Min value is ', y.min())\n",
    "print('Sum value is ', y.sum())"
   ]
  },
  {
   "cell_type": "code",
   "execution_count": 117,
   "id": "f02edf67",
   "metadata": {},
   "outputs": [],
   "source": [
    "x=np.array([[1,2],[3,4]])\n",
    "y=np.array([[5,6],[7,8]])"
   ]
  },
  {
   "cell_type": "code",
   "execution_count": 118,
   "id": "de224804",
   "metadata": {},
   "outputs": [
    {
     "data": {
      "text/plain": [
       "array([[1, 2],\n",
       "       [3, 4]])"
      ]
     },
     "execution_count": 118,
     "metadata": {},
     "output_type": "execute_result"
    }
   ],
   "source": [
    "x"
   ]
  },
  {
   "cell_type": "code",
   "execution_count": 119,
   "id": "7f6250cc",
   "metadata": {},
   "outputs": [
    {
     "data": {
      "text/plain": [
       "array([[5, 6],\n",
       "       [7, 8]])"
      ]
     },
     "execution_count": 119,
     "metadata": {},
     "output_type": "execute_result"
    }
   ],
   "source": [
    "y"
   ]
  },
  {
   "cell_type": "code",
   "execution_count": 120,
   "id": "29d0622f",
   "metadata": {},
   "outputs": [
    {
     "data": {
      "text/plain": [
       "array([[ 5, 12],\n",
       "       [21, 32]])"
      ]
     },
     "execution_count": 120,
     "metadata": {},
     "output_type": "execute_result"
    }
   ],
   "source": [
    "x*y"
   ]
  },
  {
   "cell_type": "code",
   "execution_count": 121,
   "id": "55231800",
   "metadata": {},
   "outputs": [
    {
     "data": {
      "text/plain": [
       "array([[ 5, 12],\n",
       "       [21, 32]])"
      ]
     },
     "execution_count": 121,
     "metadata": {},
     "output_type": "execute_result"
    }
   ],
   "source": [
    "np.multiply(x,y)"
   ]
  },
  {
   "cell_type": "code",
   "execution_count": 122,
   "id": "b098a74e",
   "metadata": {},
   "outputs": [],
   "source": [
    "#filtering\n"
   ]
  },
  {
   "cell_type": "code",
   "execution_count": 124,
   "id": "33217b41",
   "metadata": {},
   "outputs": [
    {
     "data": {
      "text/plain": [
       "array([[[ 1,  2,  3,  4],\n",
       "        [ 4,  5,  6,  4]],\n",
       "\n",
       "       [[ 9,  8,  7,  4],\n",
       "        [ 3,  7, 54,  4]],\n",
       "\n",
       "       [[11, 21, 31, 41],\n",
       "        [14, 15, 16, 14]]])"
      ]
     },
     "execution_count": 124,
     "metadata": {},
     "output_type": "execute_result"
    }
   ],
   "source": [
    "z=[[[1,2,3,4],[4,5,6,4]],[[9,8,7,4],[3,7,54,4]],[[11,21,31,41],[14,15,16,14]]]\n",
    "y=np.array(z)\n",
    "y"
   ]
  },
  {
   "cell_type": "code",
   "execution_count": 125,
   "id": "43f0024b",
   "metadata": {},
   "outputs": [
    {
     "data": {
      "text/plain": [
       "array([54, 21, 31, 41])"
      ]
     },
     "execution_count": 125,
     "metadata": {},
     "output_type": "execute_result"
    }
   ],
   "source": [
    "y[y>20]"
   ]
  },
  {
   "cell_type": "code",
   "execution_count": 126,
   "id": "a598b63e",
   "metadata": {},
   "outputs": [
    {
     "data": {
      "text/plain": [
       "array([21, 31])"
      ]
     },
     "execution_count": 126,
     "metadata": {},
     "output_type": "execute_result"
    }
   ],
   "source": [
    "y[np.logical_and(y>20,y<40)]"
   ]
  },
  {
   "cell_type": "code",
   "execution_count": null,
   "id": "485a2140",
   "metadata": {},
   "outputs": [],
   "source": []
  },
  {
   "cell_type": "code",
   "execution_count": 254,
   "id": "d1a6f524",
   "metadata": {
    "scrolled": true
   },
   "outputs": [
    {
     "name": "stdout",
     "output_type": "stream",
     "text": [
      "Column Sum value is  [[21 31 41 49]\n",
      " [21 27 76 22]]\n",
      "Row Sum value is  [[ 5  7  9  8]\n",
      " [12 15 61  8]\n",
      " [25 36 47 55]]\n",
      "Mean value is  12.0\n",
      "max value is  54\n",
      "Min value is  1\n",
      "Sum value is  288\n"
     ]
    },
    {
     "data": {
      "text/plain": [
       "array([21, 31])"
      ]
     },
     "execution_count": 254,
     "metadata": {},
     "output_type": "execute_result"
    }
   ],
   "source": [
    "z=[[[1,2,3,4],[4,5,6,4]],[[9,8,7,4],[3,7,54,4]],[[11,21,31,41],[14,15,16,14]]]\n",
    "y=np.array(z)\n",
    "y\n",
    "\n",
    "print('Column Sum value is ', np.sum(y,axis=0))\n",
    "print('Row Sum value is ', np.sum(y,axis=1))\n",
    "\n",
    "print('Mean value is ', y.mean())\n",
    "print('max value is ', y.max())\n",
    "print('Min value is ', y.min())\n",
    "print('Sum value is ', y.sum())\n",
    "\n",
    "x=np.array([[1,2],[3,4]])\n",
    "y=np.array([[5,6],[7,8]])\n",
    "\n",
    "x\n",
    "\n",
    "y\n",
    "\n",
    "x*y\n",
    "\n",
    "np.multiply(x,y)\n",
    "\n",
    "#filtering\n",
    "\n",
    "\n",
    "z=[[[1,2,3,4],[4,5,6,4]],[[9,8,7,4],[3,7,54,4]],[[11,21,31,41],[14,15,16,14]]]\n",
    "y=np.array(z)\n",
    "y\n",
    "\n",
    "y[y>20]\n",
    "\n",
    "y[np.logical_and(y>20,y<40)]\n",
    "\n"
   ]
  },
  {
   "cell_type": "code",
   "execution_count": 256,
   "id": "349e33ae",
   "metadata": {},
   "outputs": [
    {
     "data": {
      "text/plain": [
       "8"
      ]
     },
     "execution_count": 256,
     "metadata": {},
     "output_type": "execute_result"
    }
   ],
   "source": [
    "l = [[1,2,3,4],[2,3,4,5],[4,6,7,8],[4,5,6,7]]\n",
    "ll = np.array(l)\n",
    "np.max(l[:][2])"
   ]
  },
  {
   "cell_type": "code",
   "execution_count": 259,
   "id": "12dbc914",
   "metadata": {},
   "outputs": [
    {
     "data": {
      "text/plain": [
       "array([2, 3, 6, 5])"
      ]
     },
     "execution_count": 259,
     "metadata": {},
     "output_type": "execute_result"
    }
   ],
   "source": [
    "(ll[:,1])"
   ]
  },
  {
   "cell_type": "code",
   "execution_count": 266,
   "id": "b8bae1f8",
   "metadata": {},
   "outputs": [
    {
     "data": {
      "text/plain": [
       "[[[7, 13, 14], [18, 10, 17], [11, 12, 19]], [16, 6, 1], [[5, 8, 4, 3]]]"
      ]
     },
     "execution_count": 266,
     "metadata": {},
     "output_type": "execute_result"
    }
   ],
   "source": [
    "m = [[[7, 13, 14], [18, 10, 17], [11, 12, 19]], [16, 6, 1], [[5, 8, 4, 3]]]\n",
    "m"
   ]
  },
  {
   "cell_type": "code",
   "execution_count": 265,
   "id": "5dcbe578",
   "metadata": {},
   "outputs": [
    {
     "name": "stderr",
     "output_type": "stream",
     "text": [
      "/var/folders/_g/zmz9vv2j43s_6xdytvw6cwx80000gn/T/ipykernel_96859/1594001822.py:1: VisibleDeprecationWarning: Creating an ndarray from ragged nested sequences (which is a list-or-tuple of lists-or-tuples-or ndarrays with different lengths or shapes) is deprecated. If you meant to do this, you must specify 'dtype=object' when creating the ndarray.\n",
      "  m1=np.array(m)\n"
     ]
    }
   ],
   "source": [
    "m1=np.array(m)"
   ]
  },
  {
   "cell_type": "code",
   "execution_count": 4,
   "id": "5b7e2264",
   "metadata": {},
   "outputs": [
    {
     "data": {
      "text/plain": [
       "[array([1, 2]), array([3, 4]), array([5]), array([6])]"
      ]
     },
     "execution_count": 4,
     "metadata": {},
     "output_type": "execute_result"
    }
   ],
   "source": [
    "arr=np.array([1,2,3,4,5,6,])\n",
    "newarr=np.array_split(arr,4)\n",
    "newarr\n",
    "\n",
    "# Note: We also have the method split() available but it will not adjust the elements when elements are less\n",
    "# in source array for splitting like in example above, array_split() worked properly but split() would fail."
   ]
  },
  {
   "cell_type": "code",
   "execution_count": 7,
   "id": "84c40ad6",
   "metadata": {},
   "outputs": [
    {
     "name": "stdout",
     "output_type": "stream",
     "text": [
      "[1 2]\n",
      "[3 4]\n",
      "[5 6]\n"
     ]
    }
   ],
   "source": [
    "newarr = np.array_split(arr, 3)\n",
    "\n",
    "print(newarr[0])\n",
    "print(newarr[1])\n",
    "print(newarr[2])"
   ]
  },
  {
   "cell_type": "markdown",
   "id": "120e163c",
   "metadata": {},
   "source": [
    "## Splitting 2-D Arrays\n",
    "Use the same syntax when splitting 2-D arrays.\n",
    "\n",
    "Use the array_split() method, pass in the array you want to split and the number of splits you want to do.\n",
    "\n",
    "#### Example\n",
    "Split the 2-D array into three 2-D arrays.\n",
    "\n"
   ]
  },
  {
   "cell_type": "code",
   "execution_count": 11,
   "id": "2629407b",
   "metadata": {},
   "outputs": [
    {
     "name": "stdout",
     "output_type": "stream",
     "text": [
      "[array([[1, 2],\n",
      "       [4, 5]]), array([[5, 6],\n",
      "       [8, 5]]), array([[45, 87],\n",
      "       [ 9, 32]])]\n",
      "**************\n",
      "[[1 2]\n",
      " [4 5]]\n",
      "[[5 6]\n",
      " [8 5]]\n",
      "[[45 87]\n",
      " [ 9 32]]\n"
     ]
    }
   ],
   "source": [
    "arr=np.array([[1,2],[4,5],[5,6],[8,5],[45,87],[9,32]])\n",
    "newarr=np.array_split(arr,3)\n",
    "print(newarr)\n",
    "print('**************')\n",
    "print(newarr[0])\n",
    "print(newarr[1])\n",
    "print(newarr[2])"
   ]
  },
  {
   "cell_type": "code",
   "execution_count": 13,
   "id": "bd0d2921",
   "metadata": {},
   "outputs": [
    {
     "data": {
      "text/plain": [
       "[array([[1, 2, 3],\n",
       "        [4, 5, 6]]),\n",
       " array([[ 7,  8,  9],\n",
       "        [10, 11, 12]]),\n",
       " array([[13, 14, 15],\n",
       "        [16, 17, 18]])]"
      ]
     },
     "execution_count": 13,
     "metadata": {},
     "output_type": "execute_result"
    }
   ],
   "source": [
    "arr = np.array([[1, 2, 3], [4, 5, 6], [7, 8, 9], [10, 11, 12], [13, 14, 15], [16, 17, 18]])\n",
    "\n",
    "newarr = np.array_split(arr, 3)\n",
    "\n",
    "newarr"
   ]
  },
  {
   "cell_type": "code",
   "execution_count": 18,
   "id": "fa6f0006",
   "metadata": {},
   "outputs": [
    {
     "data": {
      "text/plain": [
       "[array([[ 1],\n",
       "        [ 4],\n",
       "        [ 7],\n",
       "        [10],\n",
       "        [13],\n",
       "        [16]]),\n",
       " array([[ 2],\n",
       "        [ 5],\n",
       "        [ 8],\n",
       "        [11],\n",
       "        [14],\n",
       "        [17]]),\n",
       " array([[ 3],\n",
       "        [ 6],\n",
       "        [ 9],\n",
       "        [12],\n",
       "        [15],\n",
       "        [18]])]"
      ]
     },
     "execution_count": 18,
     "metadata": {},
     "output_type": "execute_result"
    }
   ],
   "source": [
    "arr = np.array([[1, 2, 3], [4, 5, 6], [7, 8, 9], [10, 11, 12], [13, 14, 15], [16, 17, 18]])\n",
    "\n",
    "newarr = np.array_split(arr, 3,axis=1)\n",
    "\n",
    "newarr"
   ]
  },
  {
   "cell_type": "markdown",
   "id": "75aa5874",
   "metadata": {},
   "source": [
    "## An alternate solution is using hsplit() opposite of hstack()\n",
    "\n",
    "Example\n",
    "Use the hsplit() method to split the 2-D array into three 2-D arrays along rows."
   ]
  },
  {
   "cell_type": "code",
   "execution_count": 19,
   "id": "5145ef35",
   "metadata": {},
   "outputs": [
    {
     "data": {
      "text/plain": [
       "[array([[ 1],\n",
       "        [ 4],\n",
       "        [ 7],\n",
       "        [10],\n",
       "        [13],\n",
       "        [16]]),\n",
       " array([[ 2],\n",
       "        [ 5],\n",
       "        [ 8],\n",
       "        [11],\n",
       "        [14],\n",
       "        [17]]),\n",
       " array([[ 3],\n",
       "        [ 6],\n",
       "        [ 9],\n",
       "        [12],\n",
       "        [15],\n",
       "        [18]])]"
      ]
     },
     "execution_count": 19,
     "metadata": {},
     "output_type": "execute_result"
    }
   ],
   "source": [
    "arr = np.array([[1, 2, 3], [4, 5, 6], [7, 8, 9], [10, 11, 12], [13, 14, 15], [16, 17, 18]])\n",
    "\n",
    "newarr=np.hsplit(arr,3)\n",
    "newarr"
   ]
  },
  {
   "cell_type": "markdown",
   "id": "cd879a1e",
   "metadata": {},
   "source": [
    "### Note: Similar alternates to vstack() and dstack() are available as vsplit() and dsplit().\n",
    "\n"
   ]
  },
  {
   "cell_type": "code",
   "execution_count": 20,
   "id": "339b4415",
   "metadata": {},
   "outputs": [
    {
     "data": {
      "text/plain": [
       "[array([[1, 2, 3],\n",
       "        [4, 5, 6]]),\n",
       " array([[ 7,  8,  9],\n",
       "        [10, 11, 12]]),\n",
       " array([[13, 14, 15],\n",
       "        [16, 17, 18]])]"
      ]
     },
     "execution_count": 20,
     "metadata": {},
     "output_type": "execute_result"
    }
   ],
   "source": [
    "newarr=np.vsplit(arr,3)\n",
    "newarr"
   ]
  },
  {
   "cell_type": "code",
   "execution_count": 25,
   "id": "24b5fa03",
   "metadata": {},
   "outputs": [
    {
     "data": {
      "text/plain": [
       "array([[[ 1,  4,  7, 10, 13, 16],\n",
       "        [ 2,  5,  8, 11, 14, 17],\n",
       "        [ 3,  6,  9, 12, 15, 18]]])"
      ]
     },
     "execution_count": 25,
     "metadata": {},
     "output_type": "execute_result"
    }
   ],
   "source": [
    "newarr=np.dstack(arr)\n",
    "newarr"
   ]
  },
  {
   "cell_type": "code",
   "execution_count": 26,
   "id": "006e706e",
   "metadata": {},
   "outputs": [
    {
     "data": {
      "text/plain": [
       "numpy.ndarray"
      ]
     },
     "execution_count": 26,
     "metadata": {},
     "output_type": "execute_result"
    }
   ],
   "source": [
    "type(newarr)"
   ]
  },
  {
   "cell_type": "markdown",
   "id": "966b1b02",
   "metadata": {},
   "source": [
    "## NumPy Searching Arrays\n",
    "### Searching Arrays\n",
    "    >You can search an array for a certain value, and return the indexes that get a match.\n",
    "    >To search an array, use the where() method.\n",
    "\n",
    "#### Example\n",
    "Find the indexes where the value is 4:\n",
    "\n",
    "#### The example below will return a tuple: (array([3, 5, 6],) Which means that the value 4 is present at index 3, 5, and 6."
   ]
  },
  {
   "cell_type": "code",
   "execution_count": 34,
   "id": "7a77716f",
   "metadata": {},
   "outputs": [
    {
     "name": "stdout",
     "output_type": "stream",
     "text": [
      "(array([3, 6, 8]),)\n"
     ]
    }
   ],
   "source": [
    "arr=np.array([1,2,3,4,5,6,4,9,4])\n",
    "x=np.where(arr==4)\n",
    "print(x)\n"
   ]
  },
  {
   "cell_type": "markdown",
   "id": "6b60730c",
   "metadata": {},
   "source": [
    "#### Find the indexes where the values are even:"
   ]
  },
  {
   "cell_type": "code",
   "execution_count": 35,
   "id": "cb4d2fbf",
   "metadata": {},
   "outputs": [
    {
     "name": "stdout",
     "output_type": "stream",
     "text": [
      "(array([1, 3, 5, 6, 8]),)\n"
     ]
    }
   ],
   "source": [
    "arr=np.array([1,2,3,4,5,6,4,9,4])\n",
    "x=np.where(arr%2==0)\n",
    "print(x)\n"
   ]
  },
  {
   "cell_type": "markdown",
   "id": "dd374ef8",
   "metadata": {},
   "source": [
    "## Search Sorted\n",
    "There is a method called searchsorted() which performs a binary search in the array, and returns the index where the specified value would be inserted to maintain the search order.\n",
    "\n",
    "The searchsorted() method is assumed to be used on sorted arrays.\n",
    "\n",
    "###### Example\n",
    "Find the indexes where the value 7 should be inserted:\n",
    "\n",
    "#### Example explained: The number 7 should be inserted on index 1 to remain the sort order.\n",
    "\n",
    "The method starts the search from the left and returns the first index where the number 7 is no longer larger than the next value.\n"
   ]
  },
  {
   "cell_type": "code",
   "execution_count": 43,
   "id": "717260b7",
   "metadata": {},
   "outputs": [
    {
     "name": "stdout",
     "output_type": "stream",
     "text": [
      "5\n"
     ]
    }
   ],
   "source": [
    "arr=np.array([1,3,7,4,5,34])\n",
    "x=np.searchsorted(arr,7)\n",
    "print(x)"
   ]
  },
  {
   "cell_type": "markdown",
   "id": "b182c4ae",
   "metadata": {},
   "source": [
    "\n",
    "### Search From the Right Side\n",
    "By default the left most index is returned, but we can give side='right' to return the right most index instead.\n",
    "\n",
    "##### Example\n",
    "Find the indexes where the value 7 should be inserted, starting from the right:\n",
    "\n",
    "Example explained: The number 7 should be inserted on index 2 to remain the sort order.\n",
    "\n",
    "The method starts the search from the right and returns the first index where the number 7 is no longer less than the next value."
   ]
  },
  {
   "cell_type": "code",
   "execution_count": 48,
   "id": "5231a27a",
   "metadata": {},
   "outputs": [
    {
     "name": "stdout",
     "output_type": "stream",
     "text": [
      "2\n"
     ]
    }
   ],
   "source": [
    "arr = np.array([6, 7, 8, 9])\n",
    "x = np.searchsorted(arr, 7, side='right')\n",
    "print(x)"
   ]
  },
  {
   "cell_type": "code",
   "execution_count": 49,
   "id": "b7f568bb",
   "metadata": {},
   "outputs": [
    {
     "name": "stdout",
     "output_type": "stream",
     "text": [
      "1\n"
     ]
    }
   ],
   "source": [
    "arr = np.array([6, 7, 8, 9])\n",
    "x = np.searchsorted(arr, 7, side='left')\n",
    "print(x)"
   ]
  },
  {
   "cell_type": "markdown",
   "id": "c1b1f47d",
   "metadata": {},
   "source": [
    "### Multiple Values\n",
    "To search for more than one value, use an array with the specified values.\n",
    "\n",
    "Example\n",
    "Find the indexes where the values 2, 4, and 6 should be inserted:\n",
    "\n",
    "The return value is an array: [1 2 3] containing the three indexes where 2, 4, 6 would be inserted in the original array to maintain the order.\n"
   ]
  },
  {
   "cell_type": "code",
   "execution_count": 50,
   "id": "bd9e1a25",
   "metadata": {},
   "outputs": [
    {
     "name": "stdout",
     "output_type": "stream",
     "text": [
      "[1 2 3]\n"
     ]
    }
   ],
   "source": [
    "arr = np.array([1, 3, 5, 7])\n",
    "x = np.searchsorted(arr, [2, 4, 6])\n",
    "print(x)"
   ]
  },
  {
   "cell_type": "markdown",
   "id": "b7146ad1",
   "metadata": {},
   "source": [
    "## NumPy Sorting Arrays\n",
    "### Sorting Arrays\n",
    "Sorting means putting elements in an ordered sequence.\n",
    "\n",
    "Ordered sequence is any sequence that has an order corresponding to elements, like numeric or alphabetical, ascending or descending.\n",
    "\n",
    "The NumPy ndarray object has a function called sort(), that will sort a specified array.\n",
    "\n",
    "#### Example\n",
    "Sort the array:\n",
    "Note: This method returns a copy of the array, leaving the original array unchanged."
   ]
  },
  {
   "cell_type": "code",
   "execution_count": 53,
   "id": "29348df0",
   "metadata": {},
   "outputs": [
    {
     "name": "stdout",
     "output_type": "stream",
     "text": [
      "[0 1 2 3]\n"
     ]
    }
   ],
   "source": [
    "arr = np.array([3, 2, 0, 1])\n",
    "print(np.sort(arr))"
   ]
  },
  {
   "cell_type": "code",
   "execution_count": 55,
   "id": "cbccb6ba",
   "metadata": {},
   "outputs": [
    {
     "name": "stdout",
     "output_type": "stream",
     "text": [
      "['apple' 'banana' 'cherry']\n"
     ]
    }
   ],
   "source": [
    "## Sort the array alphabetically:\n",
    "arr = np.array(['banana', 'cherry', 'apple'])\n",
    "print(np.sort(arr))"
   ]
  },
  {
   "cell_type": "code",
   "execution_count": 56,
   "id": "296b47c3",
   "metadata": {},
   "outputs": [
    {
     "name": "stdout",
     "output_type": "stream",
     "text": [
      "[False  True  True]\n"
     ]
    }
   ],
   "source": [
    "# Sort a boolean array:\n",
    "arr = np.array([True, False, True])\n",
    "print(np.sort(arr))"
   ]
  },
  {
   "cell_type": "markdown",
   "id": "ba98c5ff",
   "metadata": {},
   "source": [
    "## Sorting a 2-D Array\n",
    "If you use the sort() method on a 2-D array, both arrays will be sorted:\n",
    "\n",
    "#### Example\n",
    "Sort a 2-D array:"
   ]
  },
  {
   "cell_type": "code",
   "execution_count": 57,
   "id": "d2d7bcb0",
   "metadata": {},
   "outputs": [
    {
     "name": "stdout",
     "output_type": "stream",
     "text": [
      "[[ 2  4  7 52]\n",
      " [ 5  9 12 65]]\n"
     ]
    }
   ],
   "source": [
    "arr=np.array([[4,52,7,2],[65,9,12,5]])\n",
    "print(np.sort(arr))"
   ]
  },
  {
   "cell_type": "code",
   "execution_count": 58,
   "id": "3c47b66f",
   "metadata": {},
   "outputs": [
    {
     "name": "stdout",
     "output_type": "stream",
     "text": [
      "[[[ 2  4  7 52]\n",
      "  [ 5  9 12 65]]\n",
      "\n",
      " [[ 2  4  7 52]\n",
      "  [ 5  9 12 65]]]\n"
     ]
    }
   ],
   "source": [
    "arr=np.array([[[4,52,7,2],[65,9,12,5]],[[4,52,7,2],[65,9,12,5]]])\n",
    "print(np.sort(arr))"
   ]
  },
  {
   "cell_type": "markdown",
   "id": "c77ff2e3",
   "metadata": {},
   "source": [
    "## NumPy Filter Array\n",
    "### Filtering Arrays\n",
    "Getting some elements out of an existing array and creating a new array out of them is called filtering.\n",
    "\n",
    "In NumPy, you filter an array using a boolean index list.\n",
    "\n",
    "A boolean index list is a list of booleans corresponding to indexes in the array.\n",
    "\n",
    "If the value at an index is True that element is contained in the filtered array, if the value at that index is False that element is excluded from the filtered array.\n",
    "\n",
    "##### Example\n",
    "Create an array from the elements on index 0 and 2:\n",
    "\n",
    "The example below will return [41, 43], why?\n",
    "\n",
    "Because the new array contains only the values where the filter array had the value True, in this case, index 0 and 2.\n",
    "\n"
   ]
  },
  {
   "cell_type": "code",
   "execution_count": 62,
   "id": "e0d27d37",
   "metadata": {},
   "outputs": [
    {
     "data": {
      "text/plain": [
       "array([41, 43])"
      ]
     },
     "execution_count": 62,
     "metadata": {},
     "output_type": "execute_result"
    }
   ],
   "source": [
    "arr = np.array([41, 42, 43, 44])\n",
    "x = [True, False, True, False]\n",
    "newarr=arr[x]\n",
    "newarr"
   ]
  },
  {
   "cell_type": "markdown",
   "id": "2b3f8a76",
   "metadata": {},
   "source": [
    "### Creating the Filter Array\n",
    "In the example above we hard-coded the True and False values, but the common use is to create a filter array based on conditions.\n",
    "\n",
    "Example\n",
    "Create a filter array that will return only values higher than 42:"
   ]
  },
  {
   "cell_type": "code",
   "execution_count": 64,
   "id": "c9583a28",
   "metadata": {},
   "outputs": [
    {
     "data": {
      "text/plain": [
       "array([43, 44])"
      ]
     },
     "execution_count": 64,
     "metadata": {},
     "output_type": "execute_result"
    }
   ],
   "source": [
    "arr=np.array([41,42,43,44])\n",
    "filter_arr=[]\n",
    "for element in arr:\n",
    "    if element>42:\n",
    "        filter_arr.append(True)\n",
    "    else:\n",
    "        filter_arr.append(False)\n",
    "newarr=arr[filter_arr]\n",
    "newarr"
   ]
  },
  {
   "cell_type": "code",
   "execution_count": 67,
   "id": "9e567d03",
   "metadata": {},
   "outputs": [
    {
     "name": "stdout",
     "output_type": "stream",
     "text": [
      "[False, True, False, True, False, True, False]\n",
      "[2 4 6]\n"
     ]
    }
   ],
   "source": [
    "arr = np.array([1, 2, 3, 4, 5, 6, 7])\n",
    "filter_arr=[]\n",
    "for element in arr:\n",
    "    if element%2==0:\n",
    "        filter_arr.append(True)\n",
    "    else:\n",
    "        filter_arr.append(False)\n",
    "        \n",
    "newarr=arr[filter_arr]\n",
    "print(filter_arr)\n",
    "print(newarr)"
   ]
  },
  {
   "cell_type": "markdown",
   "id": "59d22708",
   "metadata": {},
   "source": [
    "#### Example\n",
    "Create a filter array that will return only even elements from the original array:\n",
    "\n"
   ]
  },
  {
   "cell_type": "code",
   "execution_count": 68,
   "id": "df758689",
   "metadata": {},
   "outputs": [
    {
     "data": {
      "text/plain": [
       "array([ 2,  4,  6,  8, 10])"
      ]
     },
     "execution_count": 68,
     "metadata": {},
     "output_type": "execute_result"
    }
   ],
   "source": [
    "arr=np.array([1,2,3,4,5,6,7,8,9,10,11])\n",
    "filter_arr=arr%2==0\n",
    "newarr=arr[filter_arr]\n",
    "newarr"
   ]
  },
  {
   "cell_type": "code",
   "execution_count": 88,
   "id": "cdd61c2f",
   "metadata": {},
   "outputs": [],
   "source": [
    "arr=np.array([[[1,2,3,4,5,6,7,8,],[9,10,11,12,13,14,15,16]],[[17,18,19,20,21,22,23,24],[25,26,27,28,29,30,31,32]],\n",
    "              [[1,2,3,4,5,6,7,8,],[9,10,11,12,13,14,15,16]],[[17,18,19,20,21,22,23,24],[25,26,27,28,29,30,31,32]],\n",
    "              [[1,2,3,4,5,6,7,8,],[9,10,11,12,13,14,15,16]],[[171,118,191,201,211,221,231,241],[25,26,27,28,29,30,31,32]],\n",
    "              [[1,2,3,4,5,6,7,8,],[9,10,11,12,13,14,15,16]],[[17,18,19,20,21,22,23,24],[25,26,27,28,29,30,31,32]]\n",
    "             \n",
    "             ])"
   ]
  },
  {
   "cell_type": "code",
   "execution_count": 89,
   "id": "d4798d2b",
   "metadata": {},
   "outputs": [
    {
     "data": {
      "text/plain": [
       "(8, 2, 8)"
      ]
     },
     "execution_count": 89,
     "metadata": {},
     "output_type": "execute_result"
    }
   ],
   "source": [
    "arr.shape"
   ]
  },
  {
   "cell_type": "code",
   "execution_count": 87,
   "id": "1f20e7d4",
   "metadata": {},
   "outputs": [
    {
     "data": {
      "text/plain": [
       "array([[[  1,   2,   3,   4,   5,   6,   7,   8],\n",
       "        [  9,  10,  11,  12,  13,  14,  15,  16]],\n",
       "\n",
       "       [[ 17,  18,  19,  20,  21,  22,  23,  24],\n",
       "        [ 25,  26,  27,  28,  29,  30,  31,  32]],\n",
       "\n",
       "       [[  1,   2,   3,   4,   5,   6,   7,   8],\n",
       "        [  9,  10,  11,  12,  13,  14,  15,  16]],\n",
       "\n",
       "       [[ 17,  18,  19,  20,  21,  22,  23,  24],\n",
       "        [ 25,  26,  27,  28,  29,  30,  31,  32]],\n",
       "\n",
       "       [[  1,   2,   3,   4,   5,   6,   7,   8],\n",
       "        [  9,  10,  11,  12,  13,  14,  15,  16]],\n",
       "\n",
       "       [[171, 118, 191, 201, 211, 221, 231, 241],\n",
       "        [ 25,  26,  27,  28,  29,  30,  31,  32]]])"
      ]
     },
     "execution_count": 87,
     "metadata": {},
     "output_type": "execute_result"
    }
   ],
   "source": [
    "arr"
   ]
  },
  {
   "cell_type": "code",
   "execution_count": 91,
   "id": "64424a9a",
   "metadata": {},
   "outputs": [
    {
     "data": {
      "text/plain": [
       "array([ 9, 10, 11, 12, 13, 14, 15, 16])"
      ]
     },
     "execution_count": 91,
     "metadata": {},
     "output_type": "execute_result"
    }
   ],
   "source": [
    "arr[6,1]"
   ]
  },
  {
   "cell_type": "code",
   "execution_count": 94,
   "id": "05971de5",
   "metadata": {},
   "outputs": [],
   "source": [
    "arr=np.array([[[1,2,3,4,5,6,7,8],[  9,  10,  11,  12,  13,  14,  15,  16]],\n",
    "       [[ 17,  18,  19,  20,  21,  22,  23,  24],\n",
    "        [ 25,  26,  27,  28,  29,  30,  31,  32]]])"
   ]
  },
  {
   "cell_type": "code",
   "execution_count": 97,
   "id": "26d55015",
   "metadata": {},
   "outputs": [
    {
     "data": {
      "text/plain": [
       "array([[[ 9, 10, 11, 12, 13, 14, 15, 16]],\n",
       "\n",
       "       [[25, 26, 27, 28, 29, 30, 31, 32]]])"
      ]
     },
     "execution_count": 97,
     "metadata": {},
     "output_type": "execute_result"
    }
   ],
   "source": [
    "arr[:3,-1:]"
   ]
  },
  {
   "cell_type": "code",
   "execution_count": 109,
   "id": "d7f81c7b",
   "metadata": {},
   "outputs": [],
   "source": [
    "i=np.arange(1,65).reshape(8, 8)"
   ]
  },
  {
   "cell_type": "code",
   "execution_count": 110,
   "id": "6a7f12d7",
   "metadata": {},
   "outputs": [
    {
     "data": {
      "text/plain": [
       "array([[ 1,  2,  3,  4,  5,  6,  7,  8],\n",
       "       [ 9, 10, 11, 12, 13, 14, 15, 16],\n",
       "       [17, 18, 19, 20, 21, 22, 23, 24],\n",
       "       [25, 26, 27, 28, 29, 30, 31, 32],\n",
       "       [33, 34, 35, 36, 37, 38, 39, 40],\n",
       "       [41, 42, 43, 44, 45, 46, 47, 48],\n",
       "       [49, 50, 51, 52, 53, 54, 55, 56],\n",
       "       [57, 58, 59, 60, 61, 62, 63, 64]])"
      ]
     },
     "execution_count": 110,
     "metadata": {},
     "output_type": "execute_result"
    }
   ],
   "source": [
    "i"
   ]
  },
  {
   "cell_type": "code",
   "execution_count": 114,
   "id": "67869149",
   "metadata": {},
   "outputs": [
    {
     "data": {
      "text/plain": [
       "50"
      ]
     },
     "execution_count": 114,
     "metadata": {},
     "output_type": "execute_result"
    }
   ],
   "source": [
    "# Accessing the 50th Element \n",
    "i[6,1]"
   ]
  },
  {
   "cell_type": "code",
   "execution_count": 124,
   "id": "929a58d4",
   "metadata": {},
   "outputs": [
    {
     "data": {
      "text/plain": [
       "array([[0, 0, 2, 0, 0],\n",
       "       [0, 0, 2, 0, 0],\n",
       "       [1, 1, 2, 1, 1],\n",
       "       [0, 0, 2, 0, 0],\n",
       "       [0, 0, 2, 0, 0]])"
      ]
     },
     "execution_count": 124,
     "metadata": {},
     "output_type": "execute_result"
    }
   ],
   "source": [
    "n=5\n",
    "z=np.zeros((n,n),dtype=int)\n",
    "z[n//2,:]=1\n",
    "z[:,n//2]=2\n",
    "z"
   ]
  },
  {
   "cell_type": "code",
   "execution_count": 117,
   "id": "edb77ef6",
   "metadata": {},
   "outputs": [
    {
     "data": {
      "text/plain": [
       "array([1, 1, 1, 1, 1])"
      ]
     },
     "execution_count": 117,
     "metadata": {},
     "output_type": "execute_result"
    }
   ],
   "source": [
    "z[n//2,:]"
   ]
  },
  {
   "cell_type": "code",
   "execution_count": 118,
   "id": "1bbb3c2a",
   "metadata": {},
   "outputs": [
    {
     "data": {
      "text/plain": [
       "array([1, 1, 1, 1, 1])"
      ]
     },
     "execution_count": 118,
     "metadata": {},
     "output_type": "execute_result"
    }
   ],
   "source": [
    "z[:,n//2]"
   ]
  },
  {
   "cell_type": "code",
   "execution_count": 120,
   "id": "fcc100c3",
   "metadata": {},
   "outputs": [
    {
     "data": {
      "text/plain": [
       "array([1, 1, 1, 1, 1])"
      ]
     },
     "execution_count": 120,
     "metadata": {},
     "output_type": "execute_result"
    }
   ],
   "source": [
    "z[n//2]"
   ]
  },
  {
   "cell_type": "code",
   "execution_count": 125,
   "id": "9c3ad671",
   "metadata": {},
   "outputs": [
    {
     "data": {
      "text/plain": [
       "array([2, 2, 2, 2, 2])"
      ]
     },
     "execution_count": 125,
     "metadata": {},
     "output_type": "execute_result"
    }
   ],
   "source": [
    "z[:,2]"
   ]
  },
  {
   "cell_type": "markdown",
   "id": "784e611e",
   "metadata": {},
   "source": [
    "# Random Numbers in NumPy\n",
    "### What is a Random Number?\n",
    "Random number does NOT mean a different number every time. Random means something that can not be predicted logically.\n",
    "\n",
    "#### Pseudo Random and True Random.\n",
    "Computers work on programs, and programs are definitive set of instructions. So it means there must be some algorithm to generate a random number as well.\n",
    "\n",
    "If there is a program to generate random number it can be predicted, thus it is not truly random.\n",
    "\n",
    "Random numbers generated through a generation algorithm are called pseudo random.\n",
    "\n",
    "##### Can we make truly random numbers?\n",
    "\n",
    "Yes. In order to generate a truly random number on our computers we need to get the random data from some outside source. This outside source is generally our keystrokes, mouse movements, data on network etc.\n",
    "\n",
    "We do not need truly random numbers, unless its related to security (e.g. encryption keys) or the basis of application is the randomness (e.g. Digital roulette wheels).\n",
    "\n",
    "In this tutorial we will be using pseudo random numbers.\n",
    "\n",
    "Generate Random Number\n",
    "NumPy offers the random module to work with random numbers.\n",
    "\n",
    "###### Example\n",
    "Generate a random integer from 0 to 100:"
   ]
  },
  {
   "cell_type": "code",
   "execution_count": 126,
   "id": "b42f15cb",
   "metadata": {},
   "outputs": [],
   "source": [
    "from numpy import random"
   ]
  },
  {
   "cell_type": "code",
   "execution_count": 129,
   "id": "0ad752f1",
   "metadata": {},
   "outputs": [
    {
     "data": {
      "text/plain": [
       "69"
      ]
     },
     "execution_count": 129,
     "metadata": {},
     "output_type": "execute_result"
    }
   ],
   "source": [
    "x=random.randint(100)\n",
    "x"
   ]
  },
  {
   "cell_type": "markdown",
   "id": "abc5af33",
   "metadata": {},
   "source": [
    "### Generate Random Float\n",
    "The random module's rand() method returns a random float between 0 and 1.\n",
    "\n"
   ]
  },
  {
   "cell_type": "code",
   "execution_count": 138,
   "id": "f1000ece",
   "metadata": {},
   "outputs": [
    {
     "data": {
      "text/plain": [
       "0.11078261573979842"
      ]
     },
     "execution_count": 138,
     "metadata": {},
     "output_type": "execute_result"
    }
   ],
   "source": [
    "x=random.rand()\n",
    "x"
   ]
  },
  {
   "cell_type": "markdown",
   "id": "b21977fc",
   "metadata": {},
   "source": [
    "### Generate Random Array\n",
    "In NumPy we work with arrays, and you can use the two methods from the above examples to make random arrays.\n",
    "#### Integers\n",
    "The randint() method takes a size parameter where you can specify the shape of an array.\n",
    "###### Example\n",
    "Generate a 1-D array containing 5 random integers from 0 to 100:"
   ]
  },
  {
   "cell_type": "code",
   "execution_count": 147,
   "id": "23f5b2b8",
   "metadata": {},
   "outputs": [
    {
     "data": {
      "text/plain": [
       "array([ 9, 77,  5, 65, 18])"
      ]
     },
     "execution_count": 147,
     "metadata": {},
     "output_type": "execute_result"
    }
   ],
   "source": [
    "x=random.randint(100,size=5)\n",
    "x"
   ]
  },
  {
   "cell_type": "markdown",
   "id": "284a9a94",
   "metadata": {},
   "source": [
    "### Example\n",
    "Generate a 2-D array with 3 rows, each row containing 5 random integers from 0 to 100:"
   ]
  },
  {
   "cell_type": "code",
   "execution_count": 151,
   "id": "41d32596",
   "metadata": {},
   "outputs": [
    {
     "data": {
      "text/plain": [
       "array([[17, 79, 96,  4, 46],\n",
       "       [85,  5, 92, 76, 49],\n",
       "       [35, 93, 43, 69, 44]])"
      ]
     },
     "execution_count": 151,
     "metadata": {},
     "output_type": "execute_result"
    }
   ],
   "source": [
    "x=random.randint(100,size=(3,5))\n",
    "x"
   ]
  },
  {
   "cell_type": "markdown",
   "id": "730a2e72",
   "metadata": {},
   "source": [
    "##### Example\n",
    "Generate a 1-D array containing 5 random floats:"
   ]
  },
  {
   "cell_type": "code",
   "execution_count": 152,
   "id": "a2d6959e",
   "metadata": {},
   "outputs": [
    {
     "data": {
      "text/plain": [
       "array([0.33190773, 0.88504487, 0.42868132, 0.21422277, 0.06678398])"
      ]
     },
     "execution_count": 152,
     "metadata": {},
     "output_type": "execute_result"
    }
   ],
   "source": [
    "x=random.rand(5)\n",
    "x"
   ]
  },
  {
   "cell_type": "markdown",
   "id": "f39f1e02",
   "metadata": {},
   "source": [
    "##### Generate a 2-D array with 3 rows, each row containing 5 random numbers:"
   ]
  },
  {
   "cell_type": "code",
   "execution_count": 153,
   "id": "e44166c7",
   "metadata": {},
   "outputs": [
    {
     "data": {
      "text/plain": [
       "array([[0.62136003, 0.78773294, 0.66033464, 0.78467885, 0.10474594],\n",
       "       [0.7760607 , 0.58303195, 0.26524711, 0.06379048, 0.12171145],\n",
       "       [0.89853233, 0.8338616 , 0.52691598, 0.07515197, 0.79204202]])"
      ]
     },
     "execution_count": 153,
     "metadata": {},
     "output_type": "execute_result"
    }
   ],
   "source": [
    "x=random.rand(3,5)\n",
    "x"
   ]
  },
  {
   "cell_type": "markdown",
   "id": "a56e8709",
   "metadata": {},
   "source": [
    "### Generate Random Number From Array\n",
    ">The choice() method allows you to generate a random value based on an array of values.\n",
    "\n",
    ">The choice() method takes an array as a parameter and randomly returns one of the values.\n",
    "\n",
    "\n",
    "###### Return one of the values in an array:\n",
    "\n"
   ]
  },
  {
   "cell_type": "code",
   "execution_count": 158,
   "id": "c3cd7e5b",
   "metadata": {},
   "outputs": [
    {
     "data": {
      "text/plain": [
       "9"
      ]
     },
     "execution_count": 158,
     "metadata": {},
     "output_type": "execute_result"
    }
   ],
   "source": [
    "x=random.choice([3,5,7,9])\n",
    "x"
   ]
  },
  {
   "cell_type": "markdown",
   "id": "fa5e1e0a",
   "metadata": {},
   "source": [
    "### The choice() method also allows you to return an array of values.\n",
    "Add a size parameter to specify the shape of the array.\n",
    "###### Example\n",
    "Generate a 2-D array that consists of the values in the array parameter (3, 5, 7, and 9):\n",
    "\n"
   ]
  },
  {
   "cell_type": "code",
   "execution_count": 160,
   "id": "c4ace5b0",
   "metadata": {},
   "outputs": [
    {
     "data": {
      "text/plain": [
       "array([[3, 5, 7, 9, 3],\n",
       "       [9, 7, 5, 5, 5],\n",
       "       [3, 5, 5, 5, 3]])"
      ]
     },
     "execution_count": 160,
     "metadata": {},
     "output_type": "execute_result"
    }
   ],
   "source": [
    "x=random.choice([3,5,7,9],size=(3,5))\n",
    "x"
   ]
  },
  {
   "cell_type": "markdown",
   "id": "65f39eeb",
   "metadata": {},
   "source": [
    "# Random Data Distribution\n",
    "### What is Data Distribution?\n",
    ">Data Distribution is a list of all possible values, and how often each value occurs.\n",
    "Such lists are important when working with statistics and data science.\n",
    "The random module offer methods that returns randomly generated data distributions.\n",
    "\n",
    "### Random Distribution\n",
    ">A random distribution is a set of random numbers that follow a certain probability density function.\n",
    "\n",
    "###### Probability Density Function: A function that describes a continuous probability. i.e. probability of all values in an array.\n",
    "\n",
    ">We can generate random numbers based on defined probabilities using the choice() method of the random module.\n",
    "The choice() method allows us to specify the probability for each value.\n",
    "The probability is set by a number between 0 and 1, where 0 means that the value will never occur and 1 means that the value will always occur.\n",
    "\n",
    "###### Example\n",
    "Generate a 1-D array containing 100 values, where each value has to be 3, 5, 7 or 9.\n",
    "\n",
    "The probability for the value to be 3 is set to be 0.1\n",
    "\n",
    "The probability for the value to be 5 is set to be 0.3\n",
    "\n",
    "The probability for the value to be 7 is set to be 0.6\n",
    "\n",
    "The probability for the value to be 9 is set to be 0"
   ]
  },
  {
   "cell_type": "code",
   "execution_count": 163,
   "id": "47f19a9a",
   "metadata": {},
   "outputs": [
    {
     "name": "stdout",
     "output_type": "stream",
     "text": [
      "[7 7 7 7 3 7 5 7 7 7 5 3 5 7 5 7 7 5 5 5 7 7 7 7 7 5 7 5 7 7 5 7 7 5 7 5 5\n",
      " 7 7 7 7 5 7 7 3 7 7 7 7 3 7 5 5 7 7 3 7 5 3 7 5 7 7 7 7 7 7 7 7 7 5 7 7 5\n",
      " 7 5 5 7 7 3 5 7 7 5 7 5 5 7 7 7 3 7 3 7 7 5 7 7 3 7]\n"
     ]
    }
   ],
   "source": [
    "x = random.choice([3, 5, 7, 9], p=[0.1, 0.3, 0.6, 0.0], size=(100))\n",
    "\n",
    "print(x)"
   ]
  },
  {
   "cell_type": "code",
   "execution_count": 164,
   "id": "bfa87846",
   "metadata": {},
   "outputs": [
    {
     "name": "stdout",
     "output_type": "stream",
     "text": [
      "[[3 7 7 7 7]\n",
      " [5 5 7 7 7]\n",
      " [5 7 7 5 7]]\n"
     ]
    }
   ],
   "source": [
    "x = random.choice([3, 5, 7, 9], p=[0.1, 0.3, 0.6, 0.0], size=(3,5))\n",
    "\n",
    "print(x)"
   ]
  },
  {
   "cell_type": "markdown",
   "id": "b4d7d11d",
   "metadata": {},
   "source": [
    "# Random Permutations\n",
    "### Random Permutations of Elements\n",
    "A permutation refers to an arrangement of elements. e.g. [3, 2, 1] is a permutation of [1, 2, 3] and vice-versa.\n",
    "\n",
    "The NumPy Random module provides two methods for this: shuffle() and permutation().\n",
    "\n",
    "#### Shuffling Arrays\n",
    "Shuffle means changing arrangement of elements in-place. i.e. in the array itself.\n",
    "\n",
    "###### Example\n",
    "Randomly shuffle elements of following array:\n",
    "\n",
    "###### > The shuffle() method makes changes to the original array.\n",
    "\n"
   ]
  },
  {
   "cell_type": "code",
   "execution_count": 175,
   "id": "3af467b8",
   "metadata": {},
   "outputs": [
    {
     "data": {
      "text/plain": [
       "array([1, 2, 3, 4, 5])"
      ]
     },
     "execution_count": 175,
     "metadata": {},
     "output_type": "execute_result"
    }
   ],
   "source": [
    "x=np.array([1,2,3,4,5])\n",
    "x"
   ]
  },
  {
   "cell_type": "code",
   "execution_count": 176,
   "id": "d9ee8c9b",
   "metadata": {},
   "outputs": [
    {
     "data": {
      "text/plain": [
       "array([5, 4, 2, 1, 3])"
      ]
     },
     "execution_count": 176,
     "metadata": {},
     "output_type": "execute_result"
    }
   ],
   "source": [
    "random.shuffle(x)\n",
    "x"
   ]
  },
  {
   "cell_type": "markdown",
   "id": "3b5c7a7e",
   "metadata": {},
   "source": [
    "### Generating Permutation of Arrays\n",
    "#### Example\n",
    "Generate a random permutation of elements of following array:\n",
    "\n",
    "###### The permutation() method returns a re-arranged array (and leaves the original array un-changed).\n",
    "\n"
   ]
  },
  {
   "cell_type": "code",
   "execution_count": 180,
   "id": "1487d89a",
   "metadata": {},
   "outputs": [
    {
     "name": "stdout",
     "output_type": "stream",
     "text": [
      "[5 4 3 1 2]\n"
     ]
    }
   ],
   "source": [
    "x=np.array([1,2,3,4,5])\n",
    "print(random.permutation(x))"
   ]
  },
  {
   "cell_type": "markdown",
   "id": "8d73bbc8",
   "metadata": {},
   "source": [
    "#                                       Seaborn\n",
    "#### Visualize Distributions With Seaborn\n",
    "Seaborn is a library that uses Matplotlib underneath to plot graphs. It will be used to visualize random distributions.\n",
    "\n",
    "\n",
    "###### Install Seaborn.\n",
    "If you have Python and PIP already installed on a system, install it using this command:"
   ]
  },
  {
   "cell_type": "markdown",
   "id": "5a8fb675",
   "metadata": {},
   "source": [
    "### Import Matplotlib\n",
    "#### Import the pyplot object of the Matplotlib module in your code using the following statement:\n",
    "\n",
    "You can learn about the Matplotlib module in our Matplotlib Tutorial.\n",
    "\n",
    "### Import Seaborn\n",
    "#### Import the Seaborn module in your code using the following statement:\n",
    "\n",
    "\n",
    "#### Plotting a Distplot"
   ]
  },
  {
   "cell_type": "code",
   "execution_count": 183,
   "id": "72acb5d3",
   "metadata": {},
   "outputs": [],
   "source": [
    "import matplotlib.pyplot as plt\n",
    "import seaborn as sns"
   ]
  },
  {
   "cell_type": "code",
   "execution_count": 185,
   "id": "a2a87832",
   "metadata": {},
   "outputs": [
    {
     "data": {
      "image/png": "[encoded data removed]",
      "text/plain": [
       "<Figure size 360x360 with 1 Axes>"
      ]
     },
     "metadata": {
      "needs_background": "light"
     },
     "output_type": "display_data"
    }
   ],
   "source": [
    "sns.displot([0,1,2,3,4,5])\n",
    "plt.show()"
   ]
  },
  {
   "cell_type": "markdown",
   "id": "137da400",
   "metadata": {},
   "source": [
    "### Plotting a Distplot Without the Histogram"
   ]
  },
  {
   "cell_type": "code",
   "execution_count": 191,
   "id": "7a17b5b8",
   "metadata": {},
   "outputs": [
    {
     "name": "stderr",
     "output_type": "stream",
     "text": [
      "/opt/anaconda3/lib/python3.9/site-packages/seaborn/distributions.py:2619: FutureWarning: `distplot` is a deprecated function and will be removed in a future version. Please adapt your code to use either `displot` (a figure-level function with similar flexibility) or `kdeplot` (an axes-level function for kernel density plots).\n",
      "  warnings.warn(msg, FutureWarning)\n"
     ]
    },
    {
     "data": {
      "image/png": "[encoded data removed]",
      "text/plain": [
       "<Figure size 432x288 with 1 Axes>"
      ]
     },
     "metadata": {
      "needs_background": "light"
     },
     "output_type": "display_data"
    }
   ],
   "source": [
    "sns.distplot([0, 1, 2, 3, 4, 5], hist=False)\n",
    "\n",
    "plt.show()"
   ]
  },
  {
   "cell_type": "markdown",
   "id": "37833477",
   "metadata": {},
   "source": [
    "# Normal (Gaussian) Distribution\n",
    "##### Normal Distribution\n",
    "The Normal Distribution is one of the most important distributions.\n",
    "\n",
    "It is also called the Gaussian Distribution after the German mathematician Carl Friedrich Gauss.\n",
    "\n",
    "It fits the probability distribution of many events, eg. IQ Scores, Heartbeat etc.\n",
    "\n",
    "Use the random.normal() method to get a Normal Data Distribution.\n",
    "\n",
    "It has three parameters:\n",
    "\n",
    ">loc - (Mean) where the peak of the bell exists.\n",
    "\n",
    ">scale - (Standard Deviation) how flat the graph distribution should be.\n",
    "\n",
    ">size - The shape of the returned array.\n",
    "\n",
    "###### Example\n",
    "Generate a random normal distribution of size 2x3:\n"
   ]
  },
  {
   "cell_type": "code",
   "execution_count": 192,
   "id": "8c64d642",
   "metadata": {},
   "outputs": [
    {
     "name": "stdout",
     "output_type": "stream",
     "text": [
      "[[ 0.7030752   1.81176969  0.85266754]\n",
      " [-0.18388497 -2.39906083  1.63096416]]\n"
     ]
    }
   ],
   "source": [
    "from numpy import random\n",
    "x = random.normal(size=(2, 3))\n",
    "print(x)"
   ]
  },
  {
   "cell_type": "markdown",
   "id": "c91811ff",
   "metadata": {},
   "source": [
    "###### Example\n",
    "Generate a random normal distribution of size 2x3 with mean at 1 and standard deviation of 2:\n"
   ]
  },
  {
   "cell_type": "code",
   "execution_count": 193,
   "id": "e6dd84a0",
   "metadata": {},
   "outputs": [
    {
     "name": "stdout",
     "output_type": "stream",
     "text": [
      "[[1.65419143 2.23798046 2.80480021]\n",
      " [4.12809677 4.16299137 0.38617092]]\n"
     ]
    }
   ],
   "source": [
    "from numpy import random\n",
    "x = random.normal(loc=1, scale=2, size=(2, 3))\n",
    "print(x)"
   ]
  },
  {
   "cell_type": "markdown",
   "id": "87f2d05d",
   "metadata": {},
   "source": [
    "### Visualization of Normal Distribution\n",
    "##### Example\n"
   ]
  },
  {
   "cell_type": "code",
   "execution_count": 199,
   "id": "cc9d1a4d",
   "metadata": {},
   "outputs": [
    {
     "name": "stderr",
     "output_type": "stream",
     "text": [
      "/opt/anaconda3/lib/python3.9/site-packages/seaborn/distributions.py:2619: FutureWarning: `distplot` is a deprecated function and will be removed in a future version. Please adapt your code to use either `displot` (a figure-level function with similar flexibility) or `kdeplot` (an axes-level function for kernel density plots).\n",
      "  warnings.warn(msg, FutureWarning)\n"
     ]
    },
    {
     "data": {
      "image/png": "[encoded data removed]",
      "text/plain": [
       "<Figure size 432x288 with 1 Axes>"
      ]
     },
     "metadata": {
      "needs_background": "light"
     },
     "output_type": "display_data"
    }
   ],
   "source": [
    "from numpy import random\n",
    "import matplotlib.pyplot as plt\n",
    "import seaborn as sns\n",
    "\n",
    "sns.distplot(random.normal(size=1000), hist=False)\n",
    "\n",
    "plt.show()"
   ]
  },
  {
   "cell_type": "markdown",
   "id": "e6bcb728",
   "metadata": {},
   "source": [
    "# Binomial Distribution\n",
    "### Binomial Distribution\n",
    "    > Binomial Distribution is a Discrete Distribution.\n",
    "\n",
    "    > It describes the outcome of binary scenarios, e.g. toss of a coin, it will either be head or tails.\n",
    "\n",
    "It has three parameters:\n",
    "\n",
    "n - number of trials.\n",
    "\n",
    "p - probability of occurence of each trial (e.g. for toss of a coin 0.5 each).\n",
    "\n",
    "size - The shape of the returned array.\n",
    "\n",
    "    <> Discrete Distribution:The distribution is defined at separate set of events, e.g. a coin toss's result is discrete as it can be only head or tails whereas height of people is continuous as it can be 170, 170.1, 170.11 and so on.\n",
    "\n",
    "###### Example\n",
    "Given 10 trials for coin toss generate 10 data points:"
   ]
  },
  {
   "cell_type": "code",
   "execution_count": 213,
   "id": "33c6e978",
   "metadata": {},
   "outputs": [
    {
     "data": {
      "text/plain": [
       "array([1, 2, 1, 5, 4])"
      ]
     },
     "execution_count": 213,
     "metadata": {},
     "output_type": "execute_result"
    }
   ],
   "source": [
    "from numpy import random\n",
    "x=random.binomial(n=5,p=0.5,size=5)\n",
    "x"
   ]
  },
  {
   "cell_type": "markdown",
   "id": "ed640587",
   "metadata": {},
   "source": [
    "## Visualization of Binomial Distribution\n",
    "###### Example"
   ]
  },
  {
   "cell_type": "code",
   "execution_count": 218,
   "id": "f2efe3a2",
   "metadata": {},
   "outputs": [
    {
     "data": {
      "image/png": "[encoded data removed]",
      "text/plain": [
       "<Figure size 432x288 with 1 Axes>"
      ]
     },
     "metadata": {
      "needs_background": "light"
     },
     "output_type": "display_data"
    }
   ],
   "source": [
    "from numpy import random\n",
    "import matplotlib.pyplot as plt\n",
    "import seaborn as sns\n",
    "sns.distplot(random.binomial(n=5,p=0.5,size=5),hist=True,kde=True)\n",
    "plt.show()"
   ]
  },
  {
   "cell_type": "markdown",
   "id": "9c2a600f",
   "metadata": {},
   "source": [
    "## Difference Between Normal and Binomial Distribution\n",
    "The main difference is that normal distribution is continous whereas binomial is discrete, but if there are enough data points it will be quite similar to normal distribution with certain loc and scale.\n",
    "\n"
   ]
  },
  {
   "cell_type": "code",
   "execution_count": 219,
   "id": "2ac412e6",
   "metadata": {},
   "outputs": [
    {
     "name": "stderr",
     "output_type": "stream",
     "text": [
      "/opt/anaconda3/lib/python3.9/site-packages/seaborn/distributions.py:2619: FutureWarning: `distplot` is a deprecated function and will be removed in a future version. Please adapt your code to use either `displot` (a figure-level function with similar flexibility) or `kdeplot` (an axes-level function for kernel density plots).\n",
      "  warnings.warn(msg, FutureWarning)\n",
      "/opt/anaconda3/lib/python3.9/site-packages/seaborn/distributions.py:2619: FutureWarning: `distplot` is a deprecated function and will be removed in a future version. Please adapt your code to use either `displot` (a figure-level function with similar flexibility) or `kdeplot` (an axes-level function for kernel density plots).\n",
      "  warnings.warn(msg, FutureWarning)\n"
     ]
    },
    {
     "data": {
      "image/png": "[encoded data removed]",
      "text/plain": [
       "<Figure size 432x288 with 1 Axes>"
      ]
     },
     "metadata": {
      "needs_background": "light"
     },
     "output_type": "display_data"
    }
   ],
   "source": [
    "from numpy import random\n",
    "import matplotlib.pyplot as plt\n",
    "import seaborn as sns\n",
    "\n",
    "sns.distplot(random.normal(loc=50, scale=5, size=1000), hist=False, label='normal')\n",
    "sns.distplot(random.binomial(n=100, p=0.5, size=1000), hist=False, label='binomial')\n",
    "\n",
    "plt.show()"
   ]
  },
  {
   "cell_type": "code",
   "execution_count": 226,
   "id": "a442d11f",
   "metadata": {},
   "outputs": [
    {
     "data": {
      "image/png": "[encoded data removed]",
      "text/plain": [
       "<Figure size 360x360 with 1 Axes>"
      ]
     },
     "metadata": {
      "needs_background": "light"
     },
     "output_type": "display_data"
    },
    {
     "data": {
      "image/png": "[encoded data removed]",
      "text/plain": [
       "<Figure size 360x360 with 1 Axes>"
      ]
     },
     "metadata": {
      "needs_background": "light"
     },
     "output_type": "display_data"
    }
   ],
   "source": [
    "from numpy import random\n",
    "import matplotlib.pyplot as plt\n",
    "import seaborn as sns\n",
    "\n",
    "sns.displot(random.normal(loc=50, scale=5, size=1000),label=\"normal\",kind=\"hist\")\n",
    "sns.displot(random.binomial(n=100, p=0.5, size=1000),label='binomial')\n",
    "\n",
    "plt.show()"
   ]
  },
  {
   "cell_type": "code",
   "execution_count": 3,
   "id": "8b696f87",
   "metadata": {},
   "outputs": [
    {
     "data": {
      "text/plain": [
       "array([ 4,  6,  8, 10])"
      ]
     },
     "execution_count": 3,
     "metadata": {},
     "output_type": "execute_result"
    }
   ],
   "source": []
  },
  {
   "cell_type": "markdown",
   "id": "18c5f32d",
   "metadata": {},
   "source": [
    "# NumPy ufuncs\n",
    "### What are ufuncs?\n",
    "ufuncs stands for \"Universal Functions\" and they are NumPy functions that operate on the ndarray object.\n",
    "\n",
    "#### Why use ufuncs?\n",
    "ufuncs are used to implement vectorization in NumPy which is way faster than iterating over elements.\n",
    "\n",
    "They also provide broadcasting and additional methods like reduce, accumulate etc. that are very helpful for computation.\n",
    "\n",
    "ufuncs also take additional arguments, like:\n",
    "\n",
    "where boolean array or condition defining where the operations should take place.\n",
    "\n",
    "dtype defining the return type of elements.\n",
    "\n",
    "out output array where the return value should be copied.\n",
    "\n",
    "##### What is Vectorization?\n",
    "Converting iterative statements into a vector based operation is called vectorization.\n",
    "\n",
    "It is faster as modern CPUs are optimized for such operations.\n",
    "\n",
    "Add the Elements of Two Lists\n",
    "list 1: [1, 2, 3, 4]\n",
    "\n",
    "list 2: [4, 5, 6, 7]\n",
    "\n",
    "One way of doing it is to iterate over both of the lists and then sum each elements.\n",
    "\n",
    "###### Example\n",
    "Without ufunc, we can use Python's built-in zip() method:\n",
    "\n"
   ]
  },
  {
   "cell_type": "code",
   "execution_count": 4,
   "id": "3fbaa686",
   "metadata": {},
   "outputs": [
    {
     "name": "stdout",
     "output_type": "stream",
     "text": [
      "[5, 7, 9, 11]\n"
     ]
    }
   ],
   "source": [
    "x = [1, 2, 3, 4]\n",
    "y = [4, 5, 6, 7]\n",
    "z = []\n",
    "\n",
    "for i, j in zip(x, y):\n",
    "  z.append(i + j)\n",
    "print(z)"
   ]
  },
  {
   "cell_type": "markdown",
   "id": "d5ae8e75",
   "metadata": {},
   "source": [
    "#### NumPy has a ufunc for this, called add(x, y) that will produce the same result."
   ]
  },
  {
   "cell_type": "code",
   "execution_count": 5,
   "id": "7d579013",
   "metadata": {},
   "outputs": [
    {
     "data": {
      "text/plain": [
       "[5, 7, 9, 11]"
      ]
     },
     "execution_count": 5,
     "metadata": {},
     "output_type": "execute_result"
    }
   ],
   "source": [
    "x = [1, 2, 3, 4]\n",
    "y = [4, 5, 6, 7]\n",
    "Z=np.add(x,y)\n",
    "z"
   ]
  },
  {
   "cell_type": "markdown",
   "id": "33abdb3d",
   "metadata": {},
   "source": [
    "# Create Your Own ufunc\n",
    "### How To Create Your Own ufunc\n",
    "To create your own ufunc, you have to define a function, like you do with normal functions in Python, then you add it to your NumPy ufunc library with the frompyfunc() method.\n",
    "\n",
    "The frompyfunc() method takes the following arguments:\n",
    "\n",
    "- function - the name of the function.\n",
    "- inputs - the number of input arguments (arrays).\n",
    "- outputs - the number of output arrays.\n",
    "\n",
    "###### Example : creating own ufunc for addition"
   ]
  },
  {
   "cell_type": "code",
   "execution_count": 7,
   "id": "4c4ac571",
   "metadata": {},
   "outputs": [
    {
     "name": "stdout",
     "output_type": "stream",
     "text": [
      "[6 8 10 12]\n"
     ]
    }
   ],
   "source": [
    "import numpy as np\n",
    "def myadd(x,y):\n",
    "    return x+y\n",
    "\n",
    "myadd=np.frompyfunc(myadd,2,1)\n",
    "\n",
    "x=myadd([1,2,3,4],[5,6,7,8])\n",
    "print(x)"
   ]
  },
  {
   "cell_type": "code",
   "execution_count": 8,
   "id": "54800766",
   "metadata": {},
   "outputs": [
    {
     "data": {
      "text/plain": [
       "<ufunc 'myadd (vectorized)'>"
      ]
     },
     "execution_count": 8,
     "metadata": {},
     "output_type": "execute_result"
    }
   ],
   "source": [
    "myadd"
   ]
  },
  {
   "cell_type": "markdown",
   "id": "cc3d2317",
   "metadata": {},
   "source": [
    "##### - Check if a Function is a ufunc\n",
    "Check the type of a function to check if it is a ufunc or not.\n",
    "\n",
    "A ufunc should return <class 'numpy.ufunc'>."
   ]
  },
  {
   "cell_type": "code",
   "execution_count": 14,
   "id": "393f462a",
   "metadata": {},
   "outputs": [
    {
     "name": "stdout",
     "output_type": "stream",
     "text": [
      "<class 'numpy.ufunc'>\n"
     ]
    }
   ],
   "source": [
    "print(type(np.add))"
   ]
  },
  {
   "cell_type": "code",
   "execution_count": 12,
   "id": "20aae6e9",
   "metadata": {},
   "outputs": [
    {
     "name": "stdout",
     "output_type": "stream",
     "text": [
      "<class 'function'>\n"
     ]
    }
   ],
   "source": [
    "print(type(np.concatenate))\n"
   ]
  },
  {
   "cell_type": "code",
   "execution_count": 15,
   "id": "d3c6d5a1",
   "metadata": {},
   "outputs": [
    {
     "name": "stdout",
     "output_type": "stream",
     "text": [
      "add is ufunc\n"
     ]
    }
   ],
   "source": [
    "import numpy as np\n",
    "\n",
    "if type(np.add) == np.ufunc:\n",
    "  print('add is ufunc')\n",
    "else:\n",
    "  print('add is not ufunc')"
   ]
  },
  {
   "cell_type": "code",
   "execution_count": 28,
   "id": "4c73b827",
   "metadata": {},
   "outputs": [
    {
     "name": "stdout",
     "output_type": "stream",
     "text": [
      "Additon :  [30 32 34 36 38 40]\n",
      "Subtraction :  [-10 -10 -10 -10 -10 -10]\n",
      "Multiplication :  [200 231 264 299 336 375]\n",
      "Division :  [0.5        0.52380952 0.54545455 0.56521739 0.58333333 0.6       ]\n",
      "power :  [ 7766279631452241920  3105570700629903195  5729018530666381312\n",
      " -4649523274362944347 -1849127232522420224  1824414961309619599]\n",
      "mod :  [10 11 12 13 14 15]\n",
      "Remainder :  [10 11 12 13 14 15]\n",
      "Divmod :  (array([0, 0, 0, 0, 0, 0]), array([10, 11, 12, 13, 14, 15]))\n",
      "Abs Value :  [1 2 1 2 3 4]\n"
     ]
    }
   ],
   "source": [
    "import numpy as np\n",
    "arr1 = np.array([10, 11, 12, 13, 14, 15])\n",
    "arr2 = np.array([20, 21, 22, 23, 24, 25])\n",
    "\n",
    "print('Additon : ', np.add(arr1,arr2))\n",
    "print('Subtraction : ', np.subtract(arr1,arr2))\n",
    "print('Multiplication : ', np.multiply(arr1,arr2))\n",
    "print('Division : ', np.divide(arr1,arr2))\n",
    "print('power : ', np.power(arr1,arr2))\n",
    "print('mod : ', np.mod(arr1,arr2))\n",
    "print('Remainder : ', np.remainder(arr1,arr2))\n",
    "#The divmod() function return both the quotient and the the mod. \n",
    "#The return value is two arrays, the first array contains the quotient and second array contains the mod.\n",
    "print('Divmod : ', np.divmod(arr1,arr2))\n",
    "\n",
    "# Absolute Values\n",
    "#Both the absolute() and the abs() functions do the same absolute operation element-wise \n",
    "#but we should use absolute() to avoid confusion with python's inbuilt math.abs()\n",
    "\n",
    "arr3=np.array([-1,-2,1,2,3,-4])\n",
    "print('Abs Value : ', np.absolute(arr3))\n"
   ]
  },
  {
   "cell_type": "markdown",
   "id": "0d8bdb54",
   "metadata": {},
   "source": [
    "# Rounding Decimals\n",
    "- Rounding Decimals\n",
    "There are primarily five ways of rounding off decimals in NumPy:\n",
    "\n",
    "- truncation\n",
    "- fix\n",
    "- rounding\n",
    "- floor\n",
    "- ceil\n",
    "#### Truncation\n",
    "Remove the decimals, and return the float number closest to zero. Use the trunc() and fix() functions."
   ]
  },
  {
   "cell_type": "code",
   "execution_count": 33,
   "id": "474a2655",
   "metadata": {},
   "outputs": [
    {
     "data": {
      "text/plain": [
       "array([-3.,  3.])"
      ]
     },
     "execution_count": 33,
     "metadata": {},
     "output_type": "execute_result"
    }
   ],
   "source": [
    "import numpy as np\n",
    "arr = np.trunc([-3.1666, 3.6667])\n",
    "arr"
   ]
  },
  {
   "cell_type": "code",
   "execution_count": 34,
   "id": "f196b5ec",
   "metadata": {},
   "outputs": [
    {
     "data": {
      "text/plain": [
       "array([-3.,  3.])"
      ]
     },
     "execution_count": 34,
     "metadata": {},
     "output_type": "execute_result"
    }
   ],
   "source": [
    "# Same example, using fix():\n",
    "\n",
    "arr=np.fix([-3.1666, 3.6667])\n",
    "arr"
   ]
  },
  {
   "cell_type": "markdown",
   "id": "4722e58f",
   "metadata": {},
   "source": [
    "#### ## Rounding\n",
    "- The around() function increments preceding digit or decimal by 1 if >=5 else do nothing.\n",
    "- E.g. round off to 1 decimal point, 3.16666 is 3.2"
   ]
  },
  {
   "cell_type": "code",
   "execution_count": 35,
   "id": "cc4beb30",
   "metadata": {},
   "outputs": [
    {
     "name": "stdout",
     "output_type": "stream",
     "text": [
      "3.17\n"
     ]
    }
   ],
   "source": [
    "\n",
    "import numpy as np\n",
    "arr = np.around(3.1666, 2)\n",
    "print(arr)"
   ]
  },
  {
   "cell_type": "code",
   "execution_count": 38,
   "id": "c7738833",
   "metadata": {},
   "outputs": [
    {
     "data": {
      "text/plain": [
       "3.0"
      ]
     },
     "execution_count": 38,
     "metadata": {},
     "output_type": "execute_result"
    }
   ],
   "source": [
    "arr = np.around(3.1666, 0)\n",
    "arr"
   ]
  },
  {
   "cell_type": "markdown",
   "id": "09e2466b",
   "metadata": {},
   "source": [
    "#### Floor\n",
    "The floor() function rounds off decimal to nearest lower integer.\n",
    "\n",
    "E.g. floor of 3.166 is 3."
   ]
  },
  {
   "cell_type": "code",
   "execution_count": 41,
   "id": "a897d8bf",
   "metadata": {},
   "outputs": [
    {
     "data": {
      "text/plain": [
       "array([-4.,  3.])"
      ]
     },
     "execution_count": 41,
     "metadata": {},
     "output_type": "execute_result"
    }
   ],
   "source": [
    "import numpy as np\n",
    "arr=np.floor([-3.143,3.9667])\n",
    "arr"
   ]
  },
  {
   "cell_type": "markdown",
   "id": "f9700ee7",
   "metadata": {},
   "source": [
    "## Ceil\n",
    "The ceil() function rounds off decimal to nearest upper integer.\n",
    "\n",
    "E.g. ceil of 3.166 is 4.\n",
    "\n",
    "Example\n",
    "Ceil the elements of following array:"
   ]
  },
  {
   "cell_type": "code",
   "execution_count": 43,
   "id": "0333a7d0",
   "metadata": {},
   "outputs": [
    {
     "data": {
      "text/plain": [
       "array([-3.,  4.])"
      ]
     },
     "execution_count": 43,
     "metadata": {},
     "output_type": "execute_result"
    }
   ],
   "source": [
    "import numpy as np\n",
    "arr=np.ceil([-3.143,3.3667])\n",
    "arr"
   ]
  },
  {
   "cell_type": "markdown",
   "id": "0ad41dc5",
   "metadata": {},
   "source": [
    "## NumPy Logs\n",
    "### Logs\n",
    "NumPy provides functions to perform log at the base 2, e and 10.\n",
    "\n",
    "We will also explore how we can take log for any base by creating a custom ufunc.\n",
    "\n",
    "All of the log functions will place -inf or inf in the elements if the log can not be computed.\n",
    "\n",
    "##### Log at Base 2\n",
    "Use the log2() function to perform log at the base 2.\n",
    "\n",
    "##### Log at Base 10\n",
    "Use the log10() function to perform log at the base 10.\n",
    "\n",
    "##### Natural Log, or Log at Base e\n",
    "Use the log() function to perform log at the base e.\n",
    "\n",
    "### Log at Any Base\n",
    "NumPy does not provide any function to take log at any base, so we can use the frompyfunc() function along with inbuilt function math.log() with two input parameters and one output parameter:"
   ]
  },
  {
   "cell_type": "code",
   "execution_count": 53,
   "id": "52bce7a9",
   "metadata": {},
   "outputs": [
    {
     "name": "stdout",
     "output_type": "stream",
     "text": [
      "[0.         1.         1.5849625  2.         2.32192809 2.5849625\n",
      " 2.80735492 3.         3.169925  ]\n",
      " \n",
      "[0.         0.30103    0.47712125 0.60205999 0.69897    0.77815125\n",
      " 0.84509804 0.90308999 0.95424251]\n",
      " \n",
      "[0.         0.69314718 1.09861229 1.38629436 1.60943791 1.79175947\n",
      " 1.94591015 2.07944154 2.19722458]\n"
     ]
    }
   ],
   "source": [
    "import numpy as np\n",
    "\n",
    "arr = np.arange(1, 10)\n",
    "\n",
    "print(np.log2(arr))\n",
    "print(' ')\n",
    "print(np.log10(arr))\n",
    "print(' ')\n",
    "print(np.log(arr))"
   ]
  },
  {
   "cell_type": "code",
   "execution_count": 54,
   "id": "d1635c70",
   "metadata": {},
   "outputs": [
    {
     "name": "stdout",
     "output_type": "stream",
     "text": [
      "1.7005483074552052\n"
     ]
    }
   ],
   "source": [
    "from math import log\n",
    "import numpy as np\n",
    "\n",
    "nplog = np.frompyfunc(log, 2, 1)\n",
    "\n",
    "print(nplog(100, 15))"
   ]
  },
  {
   "cell_type": "markdown",
   "id": "e3f79b00",
   "metadata": {},
   "source": [
    "## NumPy Summations\n",
    "##### -             Summations\n",
    "What is the difference between summation and addition?\n",
    "\n",
    "Addition is done between two arguments whereas summation happens over n elements.\n",
    "\n",
    "#### Example\n",
    "Add the values in arr1 to the values in arr2: and \n",
    "\n",
    "Sum the values in arr1 and the values in arr2:\n",
    "\n",
    "\n",
    "\n"
   ]
  },
  {
   "cell_type": "code",
   "execution_count": 55,
   "id": "7c51f3fd",
   "metadata": {},
   "outputs": [
    {
     "name": "stdout",
     "output_type": "stream",
     "text": [
      "[2 4 6]\n",
      "12\n"
     ]
    }
   ],
   "source": [
    "import numpy as np\n",
    "arr1 = np.array([1, 2, 3])\n",
    "arr2 = np.array([1, 2, 3])\n",
    "newarr = np.add(arr1, arr2)\n",
    "print(newarr)\n",
    "\n",
    "newarr = np.sum([arr1, arr2])\n",
    "\n",
    "print(newarr)"
   ]
  },
  {
   "cell_type": "markdown",
   "id": "0bbda405",
   "metadata": {},
   "source": [
    "### Summation Over an Axis\n",
    "If you specify axis=1, NumPy will sum the numbers in each array.\n",
    "\n",
    "###### Example\n",
    "Perform summation in the following array over 1st axis:"
   ]
  },
  {
   "cell_type": "code",
   "execution_count": 66,
   "id": "b57f0595",
   "metadata": {},
   "outputs": [
    {
     "data": {
      "text/plain": [
       "array([6, 6])"
      ]
     },
     "execution_count": 66,
     "metadata": {},
     "output_type": "execute_result"
    }
   ],
   "source": [
    "arr1 = np.array([1, 2, 3])\n",
    "arr2 = np.array([1, 2, 3])\n",
    "newarr=np.sum([arr1,arr2],axis=1)\n",
    "newarr"
   ]
  },
  {
   "cell_type": "markdown",
   "id": "f0cae9d7",
   "metadata": {},
   "source": [
    "## Cummulative Sum\n",
    "Cummulative sum means partially adding the elements in array.\n",
    "\n",
    "E.g. The partial sum of [1, 2, 3, 4] would be [1, 1+2, 1+2+3, 1+2+3+4] = [1, 3, 6, 10].\n",
    "\n",
    "Perfom partial sum with the cumsum() function.\n",
    "\n",
    "###### Example\n",
    "Perform cummulative summation in the following array:"
   ]
  },
  {
   "cell_type": "code",
   "execution_count": 67,
   "id": "c71b3b37",
   "metadata": {},
   "outputs": [
    {
     "data": {
      "text/plain": [
       "array([ 1,  3,  6, 10, 15, 21, 28, 36, 45])"
      ]
     },
     "execution_count": 67,
     "metadata": {},
     "output_type": "execute_result"
    }
   ],
   "source": [
    "arr=np.array([1,2,3,4,5,6,7,8,9])\n",
    "newarr=np.cumsum(arr)\n",
    "newarr"
   ]
  },
  {
   "cell_type": "markdown",
   "id": "8a23b13b",
   "metadata": {},
   "source": [
    "## NumPy Products\n",
    "##### Products\n",
    "To find the product of the elements in an array, use the prod() function.\n",
    "\n",
    "##### Example\n",
    "Find the product of the elements of this array:\n",
    "\n",
    "##### Example\n",
    "Find the product of the elements of two arrays:\n",
    "\n",
    "### Product Over an Axis\n",
    "If you specify axis=1, NumPy will return the product of each array.\n",
    "\n",
    "##### Example\n",
    "Perform summation in the following array over 1st axis:\n",
    "\n",
    "### Cummulative Product\n",
    "Cummulative product means taking the product partially.\n",
    "\n",
    "E.g. The partial product of [1, 2, 3, 4] is [1, 1*2, 1*2*3, 1*2*3*4] = [1, 2, 6, 24]\n",
    "\n",
    "Perfom partial sum with the cumprod() function.\n",
    "\n",
    "##### Example\n",
    "Take cummulative product of all elements for following array:\n",
    "\n"
   ]
  },
  {
   "cell_type": "code",
   "execution_count": 72,
   "id": "55ec2e37",
   "metadata": {},
   "outputs": [
    {
     "name": "stdout",
     "output_type": "stream",
     "text": [
      "product of the elements of this array :  24\n",
      "product of the elements of two arrays:  40320\n",
      "summation in the following array over 1st axis: [  24 1680]\n",
      "cummulative product of all elements for following array :  [   5   30  210 1680]\n"
     ]
    }
   ],
   "source": [
    "import numpy as np\n",
    "arr1 = np.array([1, 2, 3, 4])\n",
    "arr2 = np.array([5, 6, 7, 8])\n",
    "\n",
    "x = np.prod(arr1)\n",
    "print('product of the elements of this array : ',x)\n",
    "\n",
    "y=np.prod([arr1,arr2])\n",
    "print(\"product of the elements of two arrays: \",y)\n",
    "\n",
    "z=np.prod([arr1,arr2],axis=1)\n",
    "print('summation in the following array over 1st axis:',z)\n",
    "\n",
    "w=np.cumprod(arr2)\n",
    "print('cummulative product of all elements for following array : ',w)"
   ]
  },
  {
   "cell_type": "markdown",
   "id": "b8d74161",
   "metadata": {},
   "source": [
    "## NumPy Differences\n",
    "#### Differences\n",
    "A discrete difference means subtracting two successive elements.\n",
    "\n",
    "E.g. for [1, 2, 3, 4], the discrete difference would be [2-1, 3-2, 4-3] = [1, 1, 1]\n",
    "\n",
    "To find the discrete difference, use the diff() function.\n",
    "\n",
    "##### Example\n",
    "Compute discrete difference of the following array:"
   ]
  },
  {
   "cell_type": "code",
   "execution_count": 73,
   "id": "4b454ae7",
   "metadata": {},
   "outputs": [
    {
     "name": "stdout",
     "output_type": "stream",
     "text": [
      "[  5  10 -20]\n"
     ]
    }
   ],
   "source": [
    "import numpy as np\n",
    "\n",
    "arr = np.array([10, 15, 25, 5])\n",
    "\n",
    "newarr = np.diff(arr)\n",
    "\n",
    "print(newarr)"
   ]
  },
  {
   "cell_type": "markdown",
   "id": "9716cc0b",
   "metadata": {},
   "source": [
    "## We can perform this operation repeatedly by giving parameter n.\n",
    "\n",
    "E.g. for [1, 2, 3, 4], the discrete difference with n = 2 would be [2-1, 3-2, 4-3] = [1, 1, 1] , then, since n=2, we will do it once more, with the new result: [1-1, 1-1] = [0, 0]\n",
    "\n",
    "##### Example\n",
    "Compute discrete difference of the following array twice:\n",
    "\n"
   ]
  },
  {
   "cell_type": "code",
   "execution_count": 75,
   "id": "5172b5f8",
   "metadata": {},
   "outputs": [
    {
     "name": "stdout",
     "output_type": "stream",
     "text": [
      "[  5 -30]\n"
     ]
    }
   ],
   "source": [
    "import numpy as np\n",
    "\n",
    "arr = np.array([10, 15, 25, 5]) \n",
    "\n",
    "newarr = np.diff(arr, n=2)\n",
    "\n",
    "print(newarr)\n",
    "\n",
    "## Returns: [5 -30] because: 15-10=5, 25-15=10, and 5-25=-20 AND 10-5=5 and -20-10=-30"
   ]
  },
  {
   "cell_type": "markdown",
   "id": "ceb15ca3",
   "metadata": {},
   "source": [
    "# NumPy LCM Lowest Common Multiple\n",
    "### Finding LCM (Lowest Common Multiple)\n",
    "The Lowest Common Multiple is the smallest number that is a common multiple of two numbers.\n",
    "\n",
    "###### Example\n",
    "Find the LCM of the following two numbers:"
   ]
  },
  {
   "cell_type": "code",
   "execution_count": 77,
   "id": "d4f7baaa",
   "metadata": {},
   "outputs": [
    {
     "data": {
      "text/plain": [
       "12"
      ]
     },
     "execution_count": 77,
     "metadata": {},
     "output_type": "execute_result"
    }
   ],
   "source": [
    "import numpy as np\n",
    "num1=4\n",
    "num2=6\n",
    "x=np.lcm(num1,num2)\n",
    "x\n",
    "\n",
    "#Returns: 12 because that is the lowest common multiple of both numbers (4*3=12 and 6*2=12)."
   ]
  },
  {
   "cell_type": "markdown",
   "id": "c25fedab",
   "metadata": {},
   "source": [
    "## Finding LCM in Arrays\n",
    "To find the Lowest Common Multiple of all values in an array, you can use the reduce() method.\n",
    "\n",
    "The reduce() method will use the ufunc, in this case the lcm() function, on each element, and reduce the array by one dimension.\n",
    "\n",
    "##### Example\n",
    "Find the LCM of the values of the following array:\n",
    "\n"
   ]
  },
  {
   "cell_type": "code",
   "execution_count": 83,
   "id": "ad946e75",
   "metadata": {},
   "outputs": [
    {
     "data": {
      "text/plain": [
       "18"
      ]
     },
     "execution_count": 83,
     "metadata": {},
     "output_type": "execute_result"
    }
   ],
   "source": [
    "import numpy as np\n",
    "arr = np.array([3,6,9])\n",
    "x=np.lcm.reduce(arr)\n",
    "x"
   ]
  },
  {
   "cell_type": "markdown",
   "id": "88ba644e",
   "metadata": {},
   "source": [
    "### Example\n",
    "Find the LCM of all values of an array where the array contains all integers from 1 to 10:"
   ]
  },
  {
   "cell_type": "code",
   "execution_count": 84,
   "id": "a82e70a0",
   "metadata": {},
   "outputs": [
    {
     "name": "stdout",
     "output_type": "stream",
     "text": [
      "[ 1  2  3  4  5  6  7  8  9 10]\n",
      "2520\n"
     ]
    }
   ],
   "source": [
    "import numpy as np\n",
    "\n",
    "arr = np.arange(1, 11)\n",
    "print(arr)\n",
    "x = np.lcm.reduce(arr)\n",
    "\n",
    "print(x)"
   ]
  },
  {
   "cell_type": "markdown",
   "id": "a83a669c",
   "metadata": {},
   "source": [
    "## NumPy GCD Greatest Common Denominator\n",
    "##### Finding GCD (Greatest Common Denominator)\n",
    "The GCD (Greatest Common Denominator), also known as HCF (Highest Common Factor) is the biggest number that is a common factor of both of the numbers.\n",
    "\n",
    "###### Example\n",
    "Find the HCF of the following two numbers:"
   ]
  },
  {
   "cell_type": "code",
   "execution_count": 85,
   "id": "2b6f1035",
   "metadata": {},
   "outputs": [
    {
     "name": "stdout",
     "output_type": "stream",
     "text": [
      "3\n"
     ]
    }
   ],
   "source": [
    "import numpy as np\n",
    "\n",
    "num1 = 6\n",
    "num2 = 9\n",
    "\n",
    "x = np.gcd(num1, num2)\n",
    "\n",
    "print(x)"
   ]
  },
  {
   "cell_type": "markdown",
   "id": "b54ee730",
   "metadata": {},
   "source": [
    "#### Finding GCD in Arrays\n",
    "To find the Highest Common Factor of all values in an array, you can use the reduce() method.\n",
    "\n",
    "The reduce() method will use the ufunc, in this case the gcd() function, on each element, and reduce the array by one dimension."
   ]
  },
  {
   "cell_type": "code",
   "execution_count": 89,
   "id": "66ecda98",
   "metadata": {},
   "outputs": [
    {
     "data": {
      "text/plain": [
       "4"
      ]
     },
     "execution_count": 89,
     "metadata": {},
     "output_type": "execute_result"
    }
   ],
   "source": [
    "import numpy as np\n",
    "arr = np.array([20, 8, 32, 36, 16])\n",
    "x=np.gcd.reduce(arr)\n",
    "x"
   ]
  },
  {
   "cell_type": "code",
   "execution_count": null,
   "id": "16d9b1f0",
   "metadata": {},
   "outputs": [],
   "source": []
  },
  {
   "cell_type": "code",
   "execution_count": null,
   "id": "5ecf1628",
   "metadata": {},
   "outputs": [],
   "source": []
  },
  {
   "cell_type": "code",
   "execution_count": null,
   "id": "70ecb8ff",
   "metadata": {},
   "outputs": [],
   "source": []
  },
  {
   "cell_type": "code",
   "execution_count": null,
   "id": "14454dbd",
   "metadata": {},
   "outputs": [],
   "source": []
  },
  {
   "cell_type": "code",
   "execution_count": null,
   "id": "e715d2ea",
   "metadata": {},
   "outputs": [],
   "source": []
  },
  {
   "cell_type": "code",
   "execution_count": null,
   "id": "16aa5a96",
   "metadata": {},
   "outputs": [],
   "source": []
  },
  {
   "cell_type": "code",
   "execution_count": null,
   "id": "43d37f06",
   "metadata": {},
   "outputs": [],
   "source": []
  },
  {
   "cell_type": "code",
   "execution_count": null,
   "id": "b8bfa8ab",
   "metadata": {},
   "outputs": [],
   "source": []
  }
 ],
 "metadata": {
  "kernelspec": {
   "display_name": "Python 3 (ipykernel)",
   "language": "python",
   "name": "python3"
  },
  "language_info": {
   "codemirror_mode": {
    "name": "ipython",
    "version": 3
   },
   "file_extension": ".py",
   "mimetype": "text/x-python",
   "name": "python",
   "nbconvert_exporter": "python",
   "pygments_lexer": "ipython3",
   "version": "3.9.12"
  }
 },
 "nbformat": 4,
 "nbformat_minor": 5
}
